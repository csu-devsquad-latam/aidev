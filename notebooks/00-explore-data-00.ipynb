{
 "cells": [
  {
   "cell_type": "markdown",
   "metadata": {},
   "source": [
    "# Explore Data\n",
    "\n",
    "Source: https://archive.ics.uci.edu/ml/datasets/online+retail#\n",
    "\n",
    "**Attribute Information**:\n",
    "\n",
    "`InvoiceNo`: Invoice number. Nominal, a 6-digit integral number uniquely assigned to each transaction. If this code starts with letter 'c', it indicates a cancellation.\n",
    "\n",
    "`StockCode`: Product (item) code. Nominal, a 5-digit integral number uniquely assigned to each distinct product.\n",
    "\n",
    "`Description`: Product (item) name. Nominal.\n",
    "\n",
    "`Quantity`: The quantities of each product (item) per transaction. Numeric.\n",
    "\n",
    "`InvoiceDate`: Invice Date and time. Numeric, the day and time when each transaction was generated.\n",
    "\n",
    "`UnitPrice`: Unit price. Numeric, Product price per unit in sterling.\n",
    "\n",
    "`CustomerID`: Customer number. Nominal, a 5-digit integral number uniquely assigned to each customer.\n",
    "\n",
    "`Country`: Country name. Nominal, the name of the country where each customer resides.\n",
    "\n",
    "Our goal for this project is to take a greenfield dataset and create a model which will take an array of features as an input and output the customer profile. \n",
    "\n",
    "Step 1 is to first try to identify the features which might give us a profile.\n",
    "\n",
    "Step 2 is to use those features to identify the customer profile (via an appropriate clustering algorithm.)\n",
    "\n",
    "The purpose of this notebook is to upload a dataset to our AML workspace and to perform data exploration in order to identify the features (columns) that might be used to label a customer profile. "
   ]
  },
  {
   "cell_type": "markdown",
   "metadata": {},
   "source": [
    "# Set up"
   ]
  },
  {
   "cell_type": "code",
   "execution_count": null,
   "metadata": {},
   "outputs": [],
   "source": [
    "%load_ext autoreload\n",
    "%autoreload 2\n",
    "\n",
    "from IPython.core.interactiveshell import InteractiveShell\n",
    "InteractiveShell.ast_node_interactivity = \"all\"\n",
    "\n",
    "import matplotlib.pyplot as plt\n",
    "import seaborn as sns\n",
    "from azureml.core import Dataset, Datastore, Workspace"
   ]
  },
  {
   "cell_type": "markdown",
   "metadata": {},
   "source": [
    "# Data"
   ]
  },
  {
   "cell_type": "markdown",
   "metadata": {},
   "source": [
    "## Register Data\n",
    "\n",
    "Our repository has a data folder. \n",
    "\n",
    "We will take the data/online-retail.csv file and upload it to our AML workspace's default datastore\n",
    "\n",
    "If you are curious where that datastore is, it is outputted on line 5. \n",
    "\n",
    "After we upload the file, we will register the uploaded file as a dataset. "
   ]
  },
  {
   "cell_type": "code",
   "execution_count": null,
   "metadata": {},
   "outputs": [],
   "source": [
    "workspace = Workspace.from_config()\n",
    "print(workspace.name, workspace.resource_group, workspace.location, workspace.subscription_id, sep = '\\n')\n",
    "\n",
    "datastore = workspace.get_default_datastore()\n",
    "datastore\n",
    "\n",
    "Dataset.File.upload_directory('../../.aml/data', datastore)\n",
    "\n",
    "datastore_path = [(datastore, 'online-retail.csv')]; #print(datastore_path)\n",
    "# Create Dataset from .csv file\n",
    "dataset = Dataset.Tabular.from_delimited_files(path=datastore_path)\n",
    "# Register dataset in AML\n",
    "dataset.register(workspace=workspace,\n",
    "                 name='online-retail',\n",
    "                 description='online retail dataset')\n"
   ]
  },
  {
   "cell_type": "markdown",
   "metadata": {},
   "source": [
    "## Load Data Locally\n",
    "\n",
    "> Potential Bug: \n",
    "> - `online-retail.csv` is registered as dataset with both settings `properties` == `None` or `properties` == `date`. When it is loaded by the cell below using `azure.core.Dataset`, a large proportion of the column `InvoiceDate` containing dtype `datetime64[ns]` has become `NaT`.\n",
    "> - see temporary mitigation in [00-explore-data-01.ipynb](./00-explore-data-01.ipynb)"
   ]
  },
  {
   "cell_type": "code",
   "execution_count": null,
   "metadata": {},
   "outputs": [],
   "source": [
    "# azureml-core of version 1.0.72 or higher is required\n",
    "# azureml-dataprep[pandas] of version 1.1.34 or higher is required\n",
    "dataset = Dataset.get_by_name(workspace, name='online-retail')\n",
    "df_orig = dataset.to_pandas_dataframe()"
   ]
  },
  {
   "cell_type": "code",
   "execution_count": null,
   "metadata": {},
   "outputs": [],
   "source": [
    "df = df_orig.copy()\n",
    "df"
   ]
  },
  {
   "cell_type": "markdown",
   "metadata": {},
   "source": [
    "## Explore Data"
   ]
  },
  {
   "cell_type": "markdown",
   "metadata": {},
   "source": [
    "### Basic"
   ]
  },
  {
   "cell_type": "code",
   "execution_count": null,
   "metadata": {},
   "outputs": [],
   "source": [
    "df.describe(include='all', datetime_is_numeric=True)"
   ]
  },
  {
   "cell_type": "code",
   "execution_count": null,
   "metadata": {},
   "outputs": [],
   "source": [
    "df.isnull().sum(axis=0) # axis = 0 refer to column-wise"
   ]
  },
  {
   "cell_type": "code",
   "execution_count": null,
   "metadata": {},
   "outputs": [],
   "source": [
    "df.info()"
   ]
  },
  {
   "cell_type": "code",
   "execution_count": null,
   "metadata": {},
   "outputs": [],
   "source": [
    "# change data type\n",
    "df = df.astype({'StockCode':'category',\n",
    "                'Country' : 'category',})\n",
    "\n",
    "df.info()"
   ]
  },
  {
   "cell_type": "markdown",
   "metadata": {},
   "source": [
    "### Correlation"
   ]
  },
  {
   "cell_type": "code",
   "execution_count": null,
   "metadata": {},
   "outputs": [],
   "source": [
    "df.corr()"
   ]
  },
  {
   "cell_type": "markdown",
   "metadata": {},
   "source": [
    "### Pair-plot"
   ]
  },
  {
   "cell_type": "code",
   "execution_count": null,
   "metadata": {},
   "outputs": [],
   "source": [
    "df_pairplot = df.copy()\n",
    "#df_pairplot = df.sample(frac=0.01, random_state=9) # 1% ~ 540 points\n",
    "\n",
    "_ = sns.pairplot(df_pairplot, hue='Country', height=4, aspect=1.5); plt.show() # "
   ]
  },
  {
   "cell_type": "code",
   "execution_count": null,
   "metadata": {},
   "outputs": [],
   "source": [
    "df_pairplot = df.sample(frac=0.01, random_state=9) # 1% ~ 540 points\n",
    "_ = sns.pairplot(df_pairplot, hue='Country', height=4, aspect=1.5); plt.show() # "
   ]
  },
  {
   "cell_type": "markdown",
   "metadata": {},
   "source": [
    "### `InvoiceDate`"
   ]
  },
  {
   "cell_type": "code",
   "execution_count": null,
   "metadata": {},
   "outputs": [],
   "source": [
    "df_InvoiceDate_NaT = df[df['InvoiceDate'].isnull()]; df_InvoiceDate_NaT\n",
    "df_InvoiceDate_NaT.sort_values(by=['Quantity', 'InvoiceNo']).head(50)\n",
    "df_InvoiceDate_NaT.sort_values(by=['Quantity', 'InvoiceNo']).tail(50)"
   ]
  },
  {
   "cell_type": "markdown",
   "metadata": {},
   "source": [
    "Note:\n",
    "- Unclear why `InvoiceDate` has `NaT`  <-- TODO: Need to register data again, keeping the `InvoiceDate` format as it is. "
   ]
  },
  {
   "cell_type": "markdown",
   "metadata": {},
   "source": [
    "### Histogram : Numerical"
   ]
  },
  {
   "cell_type": "code",
   "execution_count": null,
   "metadata": {},
   "outputs": [],
   "source": [
    "#df_hist = df[(df['Quantity']>=-10) & (df['Quantity']<=10)]\n",
    "#df_hist.describe()\n",
    "\n",
    "df_hist = df.copy()\n",
    "\n",
    "bins=100\n",
    "\n",
    "_ = df_hist[['Quantity', 'Country']].plot.hist(bins=bins, alpha=0.5, by='Country', figsize=(10,120)); plt.show()\n",
    "\n",
    "_ = df_hist[['UnitPrice', 'Country']].plot.hist(bins=bins, alpha=0.5, by='Country', figsize=(10,120)); plt.show()"
   ]
  },
  {
   "cell_type": "code",
   "execution_count": null,
   "metadata": {},
   "outputs": [],
   "source": [
    "df.sort_values(by=['Quantity'])\n",
    "df.sort_values(by=['Quantity']).head(50)\n",
    "df.sort_values(by=['Quantity']).tail(50)"
   ]
  },
  {
   "cell_type": "markdown",
   "metadata": {},
   "source": [
    "Note:\n",
    "- `Quantity` negative, `InvoiceNo` no letter `C`, seems to mean stock adjustment, e.g. damaged, thrown away, etc\n",
    "- `UnitPrice` have value `0`\n",
    "- `InvoiceDate` has `NaT` \n",
    "- `CustomerID` has `None` \n",
    "\n",
    "To Clean:\n",
    "- Remove rows where `InvoiceDate` is `NaT` \n",
    "- Remove rows where `InvoiceNo` has no letter `C`, and `Quantity` is `<0`, or `UnitPrice` is `0` < Unsure of what it means >\n"
   ]
  },
  {
   "cell_type": "code",
   "execution_count": null,
   "metadata": {},
   "outputs": [],
   "source": [
    "df.sort_values(by=['UnitPrice'])\n",
    "df.sort_values(by=['UnitPrice']).head(50)\n",
    "df.sort_values(by=['UnitPrice']).tail(50)"
   ]
  },
  {
   "cell_type": "markdown",
   "metadata": {},
   "source": [
    "Note\n",
    "- `InvoiceNo` contain letter `A`, which is not in the Data Definition. Seems to mean `Adjust bad debt`, with `StockCode` `B`\n",
    "- `Stockcode` that seems not to refer to a product, includes, but not limited to, `AMAZONFEE`, `M`, `B`, `POST`, `DOT`\n",
    "    - TODO: Extract `StockCode` that contain letters to further understand\n",
    "\n",
    "To Clean\n",
    "- Remove rows where is `UnitPrice` is `0` or `NaN`"
   ]
  },
  {
   "cell_type": "markdown",
   "metadata": {},
   "source": [
    "### Histogram : Categorical"
   ]
  },
  {
   "cell_type": "code",
   "execution_count": null,
   "metadata": {},
   "outputs": [],
   "source": [
    "categorical_cols = ['Country']\n",
    "\n",
    "for col in categorical_cols:\n",
    "    df[col].value_counts().plot(kind='bar', figsize=(7,4), title=col)\n",
    "    plt.show()\n"
   ]
  },
  {
   "cell_type": "code",
   "execution_count": null,
   "metadata": {},
   "outputs": [],
   "source": [
    "categorical_cols = df.select_dtypes(include=['category'])\n",
    "\n",
    "for col in categorical_cols:\n",
    "    df[col].value_counts(normalize=True).nlargest(100)"
   ]
  },
  {
   "cell_type": "code",
   "execution_count": null,
   "metadata": {},
   "outputs": [],
   "source": [
    "for col in df.columns:\n",
    "    col\n",
    "    df[col].value_counts(normalize=True).nsmallest(100)"
   ]
  },
  {
   "cell_type": "code",
   "execution_count": null,
   "metadata": {},
   "outputs": [],
   "source": [
    "for col in df.columns:\n",
    "    col\n",
    "    df[col].value_counts(normalize=True).nlargest(100)"
   ]
  },
  {
   "cell_type": "markdown",
   "metadata": {},
   "source": [
    "### Scatter plot"
   ]
  },
  {
   "cell_type": "code",
   "execution_count": null,
   "metadata": {},
   "outputs": [],
   "source": [
    "df_catplot = df.sample(frac=0.01, random_state=9) # 1% ~ 540 points\n",
    "_ = sns.catplot(x=\"Quantity\", y=\"UnitPrice\", hue=\"Country\", data=df_catplot, height=5, aspect=2) # 5-6 min\n",
    "_ = plt.xticks(rotation=90)"
   ]
  }
 ],
 "metadata": {
  "interpreter": {
   "hash": "445c00fd7a4b4f8166fc18a5891a54272a4de61d1da772487512a90ebc4e26fc"
  },
  "kernelspec": {
   "display_name": "Python 3.8.5 ('azureml_py38_dev')",
   "language": "python",
   "name": "python3"
  },
  "language_info": {
   "codemirror_mode": {
    "name": "ipython",
    "version": 3
   },
   "file_extension": ".py",
   "mimetype": "text/x-python",
   "name": "python",
   "nbconvert_exporter": "python",
   "pygments_lexer": "ipython3",
   "version": "3.8.5"
  },
  "orig_nbformat": 4
 },
 "nbformat": 4,
 "nbformat_minor": 2
}
