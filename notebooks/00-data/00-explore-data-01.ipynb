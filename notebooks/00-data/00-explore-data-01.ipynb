{
 "cells": [
  {
   "cell_type": "markdown",
   "metadata": {},
   "source": [
    "# Explore Data\n",
    "\n",
    "Source: https://archive.ics.uci.edu/ml/datasets/online+retail#\n",
    "\n",
    "**Attribute Information**:\n",
    "\n",
    "`InvoiceNo`: Invoice number. Nominal, a 6-digit integral number uniquely assigned to each transaction. If this code starts with letter 'c', it indicates a cancellation.\n",
    "\n",
    "`StockCode`: Product (item) code. Nominal, a 5-digit integral number uniquely assigned to each distinct product.\n",
    "\n",
    "`Description`: Product (item) name. Nominal.\n",
    "\n",
    "`Quantity`: The quantities of each product (item) per transaction. Numeric.\n",
    "\n",
    "`InvoiceDate`: Invice Date and time. Numeric, the day and time when each transaction was generated.\n",
    "\n",
    "`UnitPrice`: Unit price. Numeric, Product price per unit in sterling.\n",
    "\n",
    "`CustomerID`: Customer number. Nominal, a 5-digit integral number uniquely assigned to each customer.\n",
    "\n",
    "`Country`: Country name. Nominal, the name of the country where each customer resides."
   ]
  },
  {
   "cell_type": "markdown",
   "metadata": {},
   "source": [
    "## Summary of Data Processing\n",
    "\n",
    "Rows Removed:\n",
    "- `UnitPrice` == 0\n",
    "- `CustomerID` == NaN\n",
    "- `Country` == `Unspecified`\n",
    "- `StockCode` == `POST`, `BANK CHARGES`, `PADS`, `DOT`, `CRUK`\n",
    "- `CustomerID`, where effective `Quantity` < 0\n",
    "\n",
    "Others:\n",
    "- Data type changed"
   ]
  },
  {
   "cell_type": "markdown",
   "metadata": {},
   "source": [
    "# Set up"
   ]
  },
  {
   "cell_type": "code",
   "execution_count": null,
   "metadata": {},
   "outputs": [],
   "source": [
    "%load_ext autoreload\n",
    "%autoreload 2\n",
    "\n",
    "from IPython.core.interactiveshell import InteractiveShell\n",
    "InteractiveShell.ast_node_interactivity = \"all\"\n",
    "\n",
    "import matplotlib.pyplot as plt\n",
    "import pandas as pd\n",
    "import seaborn as sns"
   ]
  },
  {
   "cell_type": "markdown",
   "metadata": {},
   "source": [
    "# Data"
   ]
  },
  {
   "cell_type": "markdown",
   "metadata": {},
   "source": [
    "### Load from a Dataset registered in AML Workspace.\n",
    "\n",
    "> Potential Bug: \n",
    "> - `online-retail.csv` is registered as dataset with both settings `properties` == `None` or `properties` == `date`. When it is loaded by the cell below using `azure.core.Dataset`, a large proportion of the column `InvoiceDate` containing dtype `datetime64[ns]` has become `NaT`. Refer to [00-explore-data-00.ipynb](./00-explore-data-00.ipynb)\n",
    "> - see temporary mitigation in cell above.\n"
   ]
  },
  {
   "cell_type": "code",
   "execution_count": null,
   "metadata": {},
   "outputs": [],
   "source": [
    "from azureml.core import Workspace, Dataset\n",
    "\n",
    "workspace = Workspace.from_config()\n",
    "print(workspace.name, workspace.resource_group, workspace.location, workspace.subscription_id, sep = '\\n')\n",
    "\n",
    "dataset = Dataset.get_by_name(workspace, name='online-retail')\n",
    "df_orig = dataset.to_pandas_dataframe()"
   ]
  },
  {
   "cell_type": "code",
   "execution_count": null,
   "metadata": {},
   "outputs": [],
   "source": [
    "df = df_orig.copy()\n",
    "df"
   ]
  },
  {
   "cell_type": "code",
   "execution_count": null,
   "metadata": {},
   "outputs": [],
   "source": [
    "CustomerID = 16923\n",
    "StockCode = '21485'\t\n",
    "\n",
    "condition = (df['CustomerID']==CustomerID)\n",
    "df[condition]\n",
    "\n",
    "condition = (df['CustomerID']==CustomerID) & (df['Quantity']<0)\n",
    "df[condition]\n",
    "StockCode_returned = df[condition]['StockCode']\n",
    "\n",
    "condition = (df['CustomerID']==CustomerID) & (df['StockCode']==StockCode)\n",
    "df[condition]\n",
    "\n",
    "for sc in StockCode_returned:\n",
    "    condition = (df['CustomerID']==CustomerID) & (df['StockCode']==sc)\n",
    "    df[condition]"
   ]
  },
  {
   "cell_type": "markdown",
   "metadata": {},
   "source": [
    "## Explore Data"
   ]
  },
  {
   "cell_type": "markdown",
   "metadata": {},
   "source": [
    "### Basic"
   ]
  },
  {
   "cell_type": "code",
   "execution_count": null,
   "metadata": {},
   "outputs": [],
   "source": [
    "#df.describe(include='all', datetime_is_numeric=True)\n",
    "df.describe(include='all')"
   ]
  },
  {
   "cell_type": "code",
   "execution_count": null,
   "metadata": {},
   "outputs": [],
   "source": [
    "df.isnull().sum(axis=0) # axis = 0 refer to column-wise"
   ]
  },
  {
   "cell_type": "code",
   "execution_count": null,
   "metadata": {},
   "outputs": [],
   "source": [
    "df.info()"
   ]
  },
  {
   "cell_type": "code",
   "execution_count": null,
   "metadata": {},
   "outputs": [],
   "source": [
    "# change data type\n",
    "df = df.astype({'StockCode' : 'category',\n",
    "                'Country' : 'category',})\n",
    "\n",
    "# convert the 'Date' column to datetime format\n",
    "df['InvoiceDate']= pd.to_datetime(df['InvoiceDate'])\n",
    "\n",
    "df.info()"
   ]
  },
  {
   "cell_type": "markdown",
   "metadata": {},
   "source": [
    "### Correlation"
   ]
  },
  {
   "cell_type": "code",
   "execution_count": null,
   "metadata": {},
   "outputs": [],
   "source": [
    "df.corr()"
   ]
  },
  {
   "cell_type": "markdown",
   "metadata": {},
   "source": [
    "### Pair-plot"
   ]
  },
  {
   "cell_type": "code",
   "execution_count": null,
   "metadata": {},
   "outputs": [],
   "source": [
    "df_pairplot = df.copy()\n",
    "#df_pairplot = df.sample(frac=0.01, random_state=9) # 1% ~ 540 points\n",
    "\n",
    "_ = sns.pairplot(df_pairplot, hue='Country', height=4, aspect=1.5); plt.show() # "
   ]
  },
  {
   "cell_type": "code",
   "execution_count": null,
   "metadata": {},
   "outputs": [],
   "source": [
    "df_pairplot = df.sample(frac=0.01, random_state=9) # 1% ~ 540 points\n",
    "_ = sns.pairplot(df_pairplot, hue='Country', height=4, aspect=1.5); plt.show() # "
   ]
  },
  {
   "cell_type": "markdown",
   "metadata": {},
   "source": [
    "### Histogram : Numerical"
   ]
  },
  {
   "cell_type": "code",
   "execution_count": null,
   "metadata": {},
   "outputs": [],
   "source": [
    "#df_hist = df[(df['Quantity']>=-10) & (df['Quantity']<=10)]\n",
    "#df_hist.describe()\n",
    "\n",
    "df_hist = df.copy()\n",
    "\n",
    "bins=100\n",
    "\n",
    "_ = df_hist[['Quantity', 'Country']].plot.hist(bins=bins, alpha=0.5, by='Country', figsize=(10,120)); plt.show()\n",
    "\n",
    "_ = df_hist[['UnitPrice', 'Country']].plot.hist(bins=bins, alpha=0.5, by='Country', figsize=(10,120)); plt.show()"
   ]
  },
  {
   "cell_type": "markdown",
   "metadata": {},
   "source": [
    "Note:\n",
    "- Extreme value for `Quantity` and `UnitPrice`"
   ]
  },
  {
   "cell_type": "code",
   "execution_count": null,
   "metadata": {},
   "outputs": [],
   "source": [
    "df.sort_values(by=['Quantity'])\n",
    "df.sort_values(by=['Quantity']).head(10)\n",
    "df.sort_values(by=['Quantity']).tail(10)"
   ]
  },
  {
   "cell_type": "markdown",
   "metadata": {},
   "source": [
    "Note:\n",
    "- `Quantity` negative, `InvoiceNo` no letter `C`, seems to mean stock adjustment, e.g. damaged, thrown away, etc\n",
    "    - Investigate < TO DO >\n",
    "- `UnitPrice` have value `0`. < REMOVED >\n",
    "- `CustomerID` has `nan` , what does this mean? Customer who bought things but does not register? Remove for now. < REMOVED >\n",
    "- rows where `InvoiceNo` has no letter `C`, and `Quantity` is `<0`, or `UnitPrice` is `0` < Unsure of what it means >  < SOLVED >"
   ]
  },
  {
   "cell_type": "code",
   "execution_count": null,
   "metadata": {},
   "outputs": [],
   "source": [
    "df.sort_values(by=['UnitPrice'])\n",
    "df.sort_values(by=['UnitPrice']).head(20)\n",
    "df.sort_values(by=['UnitPrice']).tail(20)"
   ]
  },
  {
   "cell_type": "markdown",
   "metadata": {},
   "source": [
    "Note\n",
    "- `InvoiceNo` contain letter `A`, which is not in the Data Definition. Seems to mean `Adjust bad debt`, with `StockCode` `B`\n",
    "- `Stockcode` that seems not to refer to a product, includes, but not limited to, `AMAZONFEE`, `M`, `B`, `POST`, `DOT`\n",
    "    - Extract `StockCode` that contain letters to further understand < DONE >\n",
    "\n",
    "To Clean\n",
    "- Remove rows where is `UnitPrice` is `0` or `NaN`"
   ]
  },
  {
   "cell_type": "markdown",
   "metadata": {},
   "source": [
    "## Remove unwanted data"
   ]
  },
  {
   "cell_type": "markdown",
   "metadata": {},
   "source": [
    "### Remove rows where `CustomerID` is `nan`"
   ]
  },
  {
   "cell_type": "code",
   "execution_count": null,
   "metadata": {},
   "outputs": [],
   "source": [
    "df.dropna(subset=['CustomerID'], inplace=True)\n",
    "df.describe(include='all', datetime_is_numeric=True)\n",
    "df.isnull().sum(axis=0) # axis = 0 refer to column-wise"
   ]
  },
  {
   "cell_type": "code",
   "execution_count": null,
   "metadata": {},
   "outputs": [],
   "source": [
    "# change data type to int, then str, due to decimal point, e.g. 1234.0\n",
    "df = df.astype({'CustomerID' : int})  \n",
    "df = df.astype({'CustomerID' : str})\n",
    "df.describe(include='all', datetime_is_numeric=True)"
   ]
  },
  {
   "cell_type": "markdown",
   "metadata": {},
   "source": [
    "### Normalise Text"
   ]
  },
  {
   "cell_type": "code",
   "execution_count": null,
   "metadata": {},
   "outputs": [],
   "source": [
    "df['Description'] = df['Description'].str.lower()\n",
    "df"
   ]
  },
  {
   "cell_type": "markdown",
   "metadata": {},
   "source": [
    "### After removing `CustomerID`==`NaN` : Histogram"
   ]
  },
  {
   "cell_type": "code",
   "execution_count": null,
   "metadata": {},
   "outputs": [],
   "source": [
    "#df_hist = df[(df['Quantity']>=-10) & (df['Quantity']<=10)]\n",
    "#df_hist.describe()\n",
    "\n",
    "df_hist = df.copy()\n",
    "\n",
    "bins=100\n",
    "\n",
    "_ = df_hist[['Quantity', 'Country']].plot.hist(bins=bins, alpha=0.5, by='Country', figsize=(10,120)); plt.show()\n",
    "\n",
    "_ = df_hist[['UnitPrice', 'Country']].plot.hist(bins=bins, alpha=0.5, by='Country', figsize=(10,120)); plt.show()"
   ]
  },
  {
   "cell_type": "code",
   "execution_count": null,
   "metadata": {},
   "outputs": [],
   "source": [
    "#df.sort_values(by=['Quantity'])\n",
    "df.sort_values(by=['Quantity']).head(50)\n",
    "df.sort_values(by=['Quantity']).tail(50)"
   ]
  },
  {
   "cell_type": "code",
   "execution_count": null,
   "metadata": {},
   "outputs": [],
   "source": [
    "#df.sort_values(by=['UnitPrice'])\n",
    "df.sort_values(by=['UnitPrice']).head(50)\n",
    "df.sort_values(by=['UnitPrice']).tail(50)"
   ]
  },
  {
   "cell_type": "markdown",
   "metadata": {},
   "source": [
    "### Remove rows where `Country`==`Unspecified`"
   ]
  },
  {
   "cell_type": "code",
   "execution_count": null,
   "metadata": {},
   "outputs": [],
   "source": [
    "df.shape\n",
    "df = df[df['Country']!='Unspecified']\n",
    "df.shape"
   ]
  },
  {
   "cell_type": "markdown",
   "metadata": {},
   "source": [
    "### Check Conditions Below:\n",
    "\n",
    "- `UnitPrice` have value `0`\n",
    "- `InvoiceNo` has no letter `C`, and `Quantity` is `<0`, or `UnitPrice` is `0` < Unsure of what it means >  < Solved >"
   ]
  },
  {
   "cell_type": "code",
   "execution_count": null,
   "metadata": {},
   "outputs": [],
   "source": [
    "df[df['InvoiceNo'].str.contains('[a-zA-Z]')] # contain any alphabets"
   ]
  },
  {
   "cell_type": "code",
   "execution_count": null,
   "metadata": {},
   "outputs": [],
   "source": [
    "df_temp = df['InvoiceNo'].str.replace('\\d+', '') # replace all numeric with '', i.e. extract alphabets\n",
    "df_temp.unique()"
   ]
  },
  {
   "cell_type": "markdown",
   "metadata": {},
   "source": [
    "Note\n",
    "- `InvoiceNo` now only contain numeric and `C` + numeric"
   ]
  },
  {
   "cell_type": "code",
   "execution_count": null,
   "metadata": {},
   "outputs": [],
   "source": [
    "print('UnitPrice <= 0   AND   InvoiceNo contain letter C')\n",
    "df[(df['UnitPrice']<=0) & (df['InvoiceNo'].str.contains('[a-zA-Z]'))].shape\n",
    "print('UnitPrice < 0   AND   InvoiceNo contain letter C')\n",
    "df[(df['UnitPrice']<0) & (df['InvoiceNo'].str.contains('[a-zA-Z]'))].shape\n",
    "print('UnitPrice == 0   AND   InvoiceNo contain letter C')\n",
    "df[(df['UnitPrice']==0) & (df['InvoiceNo'].str.contains('[a-zA-Z]'))].shape\n",
    "\n",
    "print('Quantity <= 0   AND   InvoiceNo contain letter C')\n",
    "df[(df['Quantity']<=0) & (df['InvoiceNo'].str.contains('[a-zA-Z]'))].shape\n",
    "print('Quantity < 0   AND   InvoiceNo contain letter C')\n",
    "df[(df['Quantity']<0) & (df['InvoiceNo'].str.contains('[a-zA-Z]'))].shape\n",
    "print('Quantity == 0   AND   InvoiceNo contain letter C')\n",
    "df[(df['Quantity']==0) & (df['InvoiceNo'].str.contains('[a-zA-Z]'))].shape\n",
    "\n",
    "print('UnitPrice <= 0   AND   InvoiceNo not contain letter C')\n",
    "df[(df['UnitPrice']<=0) & (~df['InvoiceNo'].str.contains('[a-zA-Z]'))].shape\n",
    "print('UnitPrice < 0   AND   InvoiceNo not contain letter C')\n",
    "df[(df['UnitPrice']<0) & (~df['InvoiceNo'].str.contains('[a-zA-Z]'))].shape\n",
    "print('UnitPrice == 0   AND   InvoiceNo not contain letter C')\n",
    "df[(df['UnitPrice']==0) & (~df['InvoiceNo'].str.contains('[a-zA-Z]'))].shape\n",
    "\n",
    "print('Quantity <= 0   AND   InvoiceNo not contain letter C')\n",
    "df[(df['Quantity']<=0) & (~df['InvoiceNo'].str.contains('[a-zA-Z]'))].shape\n",
    "print('Quantity < 0   AND   InvoiceNo not contain letter C')\n",
    "df[(df['Quantity']<0) & (~df['InvoiceNo'].str.contains('[a-zA-Z]'))].shape\n",
    "print('Quantity == 0   AND   InvoiceNo not contain letter C')\n",
    "df[(df['Quantity']==0) & (~df['InvoiceNo'].str.contains('[a-zA-Z]'))].shape"
   ]
  },
  {
   "cell_type": "markdown",
   "metadata": {},
   "source": [
    "Note:\n",
    "- 40 rows where `UnitPrice` == 0, `InvoiceNo` is numeric. What does this mean? Free gift? Remove for now. < DONE >\n",
    "- rows where `InvoiceNo` contain letter `C`, AND `Quantity` is < 0. This is consistent now."
   ]
  },
  {
   "cell_type": "markdown",
   "metadata": {},
   "source": [
    "#### When `UnitPrice` == 0"
   ]
  },
  {
   "cell_type": "code",
   "execution_count": null,
   "metadata": {},
   "outputs": [],
   "source": [
    "df[df['UnitPrice']==0]"
   ]
  },
  {
   "cell_type": "markdown",
   "metadata": {},
   "source": [
    "### Remove when `UnitPrice` == 0"
   ]
  },
  {
   "cell_type": "code",
   "execution_count": null,
   "metadata": {},
   "outputs": [],
   "source": [
    "df.shape\n",
    "df.drop(df[df['UnitPrice']==0].index, inplace=True)\n",
    "df.shape"
   ]
  },
  {
   "cell_type": "markdown",
   "metadata": {},
   "source": [
    "### Investigate `StockCode`"
   ]
  },
  {
   "cell_type": "code",
   "execution_count": null,
   "metadata": {},
   "outputs": [],
   "source": [
    "df_temp = df[df['StockCode'].str.contains('[a-zA-Z]')] # contain any alphabets\n",
    "df_temp['StockCode'].unique()\n",
    "df_temp"
   ]
  },
  {
   "cell_type": "code",
   "execution_count": null,
   "metadata": {},
   "outputs": [],
   "source": [
    "df_temp = df['StockCode'].str.replace('\\d+', '')\n",
    "df_temp.unique()"
   ]
  },
  {
   "cell_type": "code",
   "execution_count": null,
   "metadata": {},
   "outputs": [],
   "source": [
    "for alphabets in df_temp.unique():\n",
    "    if alphabets: # if alphabets is not empty\n",
    "        alphabets\n",
    "        df[df['StockCode'].str.contains(alphabets)]"
   ]
  },
  {
   "cell_type": "markdown",
   "metadata": {},
   "source": [
    "Note\n",
    "- Remove `StockCode` == `POST`, `BANK CHARGES`, `PADS`, `DOT`, `CRUK` < DONE >\n",
    "- Remove `UnitPrice < 0.01` < Gone when the above is done >"
   ]
  },
  {
   "cell_type": "code",
   "execution_count": null,
   "metadata": {},
   "outputs": [],
   "source": [
    "df.shape\n",
    "\n",
    "condition = (df['StockCode']=='POST') | \\\n",
    "            (df['StockCode']=='BANK CHARGES') | \\\n",
    "            (df['StockCode']=='PADS') | \\\n",
    "            (df['StockCode']=='DOT') | \\\n",
    "            (df['StockCode']=='CRUK')\n",
    "\n",
    "df = df[~condition]\n",
    "df.shape"
   ]
  },
  {
   "cell_type": "markdown",
   "metadata": {},
   "source": [
    "#### Check Statistics"
   ]
  },
  {
   "cell_type": "code",
   "execution_count": null,
   "metadata": {},
   "outputs": [],
   "source": [
    "df.describe(include='all', datetime_is_numeric=True)"
   ]
  },
  {
   "cell_type": "markdown",
   "metadata": {},
   "source": [
    "Note\n",
    "- extreme value for `Quantity` and `UnitPrice` still exist. < Investigate >"
   ]
  },
  {
   "cell_type": "code",
   "execution_count": null,
   "metadata": {},
   "outputs": [],
   "source": [
    "df.sort_values(by=['Quantity']).head(50)\n",
    "df.sort_values(by=['Quantity']).tail(50)"
   ]
  },
  {
   "cell_type": "markdown",
   "metadata": {},
   "source": [
    "### Investigate extreme `Quantity` values "
   ]
  },
  {
   "cell_type": "markdown",
   "metadata": {},
   "source": [
    "Note\n",
    "- Assume that we are only interested in effective sales, i.e. excluding return, remove pairs of (order, ordercancelled) < AS FEATURE ENGINEERING | TO DO >"
   ]
  },
  {
   "cell_type": "code",
   "execution_count": null,
   "metadata": {},
   "outputs": [],
   "source": [
    "CustomerID_mini = df.sort_values(by=['Quantity']).head(3)['CustomerID']\n",
    "CustomerID_mini = pd.concat([CustomerID_mini, df.sort_values(by=['Quantity']).tail(3)['CustomerID']])\n",
    "\n",
    "df_mini = df[df['CustomerID'].isin(CustomerID_mini)]\n",
    "df_mini.shape\n",
    "df_mini"
   ]
  },
  {
   "cell_type": "code",
   "execution_count": null,
   "metadata": {},
   "outputs": [],
   "source": [
    "df_mini_duplicated = df_mini[df_mini.duplicated(subset=['CustomerID', 'StockCode', 'Description', 'UnitPrice', 'Country'], keep=False)]\n",
    "df_mini_duplicated"
   ]
  },
  {
   "cell_type": "code",
   "execution_count": null,
   "metadata": {},
   "outputs": [],
   "source": [
    "condition = (df_mini_duplicated['StockCode']=='21787') & (df_mini_duplicated['CustomerID']=='12901')\n",
    "df_mini_duplicated[condition]\n",
    "df_mini_duplicated[condition]['Quantity'].sum()"
   ]
  },
  {
   "cell_type": "code",
   "execution_count": null,
   "metadata": {},
   "outputs": [],
   "source": [
    "# observed=True : This only applies if any of the groupers are Categoricals. \n",
    "# If True: only show observed values for categorical groupers. \n",
    "# If False: show all values for categorical groupers.\n",
    "df_mini_duplicated_sum = df_mini_duplicated.groupby(['CustomerID', 'StockCode', 'Description', 'UnitPrice', 'Country'], as_index=False, observed=True)['Quantity'].sum() \n",
    "df_mini_duplicated_sum\n",
    "\n",
    "condition = (df_mini_duplicated_sum['StockCode']=='21787') & (df_mini_duplicated_sum['CustomerID']=='12901')\n",
    "df_mini_duplicated_sum[condition]"
   ]
  },
  {
   "cell_type": "code",
   "execution_count": null,
   "metadata": {},
   "outputs": [],
   "source": [
    "df_duplicated = df[df.duplicated(subset=['CustomerID', 'StockCode', 'UnitPrice', 'Country'], keep=False)]\n",
    "df_effective_quantity = df_duplicated.groupby(['CustomerID', 'StockCode', 'UnitPrice', 'Country'], as_index=False, observed=True)['Quantity'].sum() \n",
    "df_effective_quantity.describe()\n",
    "df_effective_quantity"
   ]
  },
  {
   "cell_type": "code",
   "execution_count": null,
   "metadata": {},
   "outputs": [],
   "source": [
    "df_effective_quantity.sort_values(by=['Quantity']).head(50)\n",
    "df_effective_quantity.sort_values(by=['Quantity']).tail(50)"
   ]
  },
  {
   "cell_type": "code",
   "execution_count": null,
   "metadata": {},
   "outputs": [],
   "source": [
    "condition = (df_effective_quantity['Quantity']<0)\n",
    "df_effective_quantity[condition]\n"
   ]
  },
  {
   "cell_type": "markdown",
   "metadata": {},
   "source": [
    "Note\n",
    "- effective `Quantity` < 0, what does this mean? Remove those `CustomerID`? Assuming return period of 12 months, will need 24 months data to evaluate customer value for last 12 months.\n",
    "    - For simplicity, remove such `CustomerID`. < AS FEATURE PREPARATION | TO DO >"
   ]
  },
  {
   "cell_type": "markdown",
   "metadata": {},
   "source": [
    "### Cross-checking"
   ]
  },
  {
   "cell_type": "code",
   "execution_count": null,
   "metadata": {},
   "outputs": [],
   "source": [
    "CustomerID = '18139'\n",
    "\n",
    "condition = (df['CustomerID']==CustomerID)\n",
    "df[condition]\n",
    "\n",
    "condition = (df['CustomerID']==CustomerID) & (df['Quantity']<0)\n",
    "df[condition]\n",
    "\n",
    "condition = (df['CustomerID']==CustomerID) & (df['UnitPrice']==0.32)\n",
    "df[condition]\n",
    "\n",
    "condition = (df['CustomerID']==CustomerID) & (df['UnitPrice']==0.56)\n",
    "df[condition]"
   ]
  },
  {
   "cell_type": "code",
   "execution_count": null,
   "metadata": {},
   "outputs": [],
   "source": [
    "CustomerID = '16923'\n",
    "StockCode = '21485'\t\n",
    "\n",
    "condition = (df['CustomerID']==CustomerID)\n",
    "df[condition]\n",
    "\n",
    "condition = (df['CustomerID']==CustomerID) & (df['Quantity']<0)\n",
    "df[condition]\n",
    "\n",
    "condition = (df['CustomerID']==CustomerID) & (df['StockCode']==StockCode)\n",
    "df[condition]"
   ]
  },
  {
   "cell_type": "markdown",
   "metadata": {},
   "source": [
    "#### Investigate `UnitPrice` "
   ]
  },
  {
   "cell_type": "code",
   "execution_count": null,
   "metadata": {},
   "outputs": [],
   "source": [
    "df.sort_values(by=['UnitPrice']).head(50)\n",
    "df.sort_values(by=['UnitPrice']).tail(50)"
   ]
  },
  {
   "cell_type": "markdown",
   "metadata": {},
   "source": [
    "Note:\n",
    "- Still exist extremly high `UnitPrice` < TO INVESTIGATE >"
   ]
  },
  {
   "cell_type": "markdown",
   "metadata": {},
   "source": [
    "### Histogram : Categorical"
   ]
  },
  {
   "cell_type": "markdown",
   "metadata": {},
   "source": [
    "#### `Country`"
   ]
  },
  {
   "cell_type": "code",
   "execution_count": null,
   "metadata": {},
   "outputs": [],
   "source": [
    "categorical_cols = ['Country']\n",
    "\n",
    "for col in categorical_cols:\n",
    "    df[col].value_counts().plot(kind='bar', figsize=(15,4), title=col)\n",
    "    plt.show()\n"
   ]
  },
  {
   "cell_type": "code",
   "execution_count": null,
   "metadata": {},
   "outputs": [],
   "source": [
    "df.groupby('Country').size().sort_values(ascending=False)"
   ]
  },
  {
   "cell_type": "code",
   "execution_count": null,
   "metadata": {},
   "outputs": [],
   "source": [
    "categorical_cols = df.select_dtypes(include=['category'])\n",
    "\n",
    "for col in categorical_cols:\n",
    "    df[col].value_counts(normalize=True).nlargest(100)"
   ]
  },
  {
   "cell_type": "code",
   "execution_count": null,
   "metadata": {},
   "outputs": [],
   "source": [
    "for col in df.columns:\n",
    "    col\n",
    "    df[col].value_counts(normalize=True).nsmallest(100)"
   ]
  },
  {
   "cell_type": "code",
   "execution_count": null,
   "metadata": {},
   "outputs": [],
   "source": [
    "for col in df.columns:\n",
    "    col\n",
    "    df[col].value_counts(normalize=True).nlargest(100)"
   ]
  },
  {
   "cell_type": "markdown",
   "metadata": {},
   "source": [
    "### Scatter plot"
   ]
  },
  {
   "cell_type": "code",
   "execution_count": null,
   "metadata": {},
   "outputs": [],
   "source": [
    "df_catplot = df.sample(frac=0.01, random_state=9) # 1% ~ 4000 points\n",
    "_ = sns.catplot(x=\"Quantity\", y=\"UnitPrice\", hue=\"Country\", data=df_catplot, height=5, aspect=3) # 2-3 min\n",
    "_ = plt.xticks(rotation=90)"
   ]
  },
  {
   "cell_type": "markdown",
   "metadata": {},
   "source": [
    "===================================================================================================="
   ]
  },
  {
   "cell_type": "markdown",
   "metadata": {},
   "source": [
    "# Data Management"
   ]
  },
  {
   "cell_type": "markdown",
   "metadata": {},
   "source": [
    "## Upload Processed Data to Datastore"
   ]
  },
  {
   "cell_type": "code",
   "execution_count": null,
   "metadata": {},
   "outputs": [],
   "source": [
    "from azureml.core import Workspace, Dataset\n",
    "\n",
    "workspace = Workspace.from_config()\n",
    "print(workspace.name, workspace.resource_group, workspace.location, workspace.subscription_id, sep = '\\n')\n",
    "\n",
    "datastore = workspace.get_default_datastore()\n",
    "datastore\n",
    "\n",
    "if True:\n",
    "# if False: # Replace `False` with `True` to run code below\n",
    "    filename = '../../.aml/data/online-retail-processed.csv'\n",
    "\n",
    "    # Save to local\n",
    "    df.to_csv(filename, index=False)\n",
    "\n",
    "    Dataset.File.upload_directory('../../.aml/data', datastore)"
   ]
  },
  {
   "cell_type": "markdown",
   "metadata": {},
   "source": [
    "## Register Dataframe as Dataset"
   ]
  },
  {
   "cell_type": "code",
   "execution_count": null,
   "metadata": {},
   "outputs": [],
   "source": [
    "from azureml.core import Workspace, Dataset\n",
    "\n",
    "workspace = Workspace.from_config()\n",
    "print(workspace.name, workspace.resource_group, workspace.location, workspace.subscription_id, sep = '\\n')\n",
    "\n",
    "datastore = workspace.get_default_datastore()\n",
    "datastore\n",
    "\n",
    "if True:\n",
    "# if False: # Replace `False` with `True` to run code below\n",
    "\n",
    "    # Dataset name to register as \n",
    "    name = 'online-retail-processed'\n",
    "\n",
    "    # create a new dataset\n",
    "    Dataset.Tabular.register_pandas_dataframe(dataframe=df, \n",
    "                                            target=datastore, \n",
    "                                            name=name, \n",
    "                                            show_progress=True, \n",
    "                                            tags={'Purpose':'Tutorial'})"
   ]
  }
 ],
 "metadata": {
  "interpreter": {
   "hash": "445c00fd7a4b4f8166fc18a5891a54272a4de61d1da772487512a90ebc4e26fc"
  },
  "kernelspec": {
   "display_name": "Python 3.8.5 ('azureml_py38_dev')",
   "language": "python",
   "name": "python3"
  },
  "language_info": {
   "codemirror_mode": {
    "name": "ipython",
    "version": 3
   },
   "file_extension": ".py",
   "mimetype": "text/x-python",
   "name": "python",
   "nbconvert_exporter": "python",
   "pygments_lexer": "ipython3",
   "version": "3.8.5"
  },
  "orig_nbformat": 4
 },
 "nbformat": 4,
 "nbformat_minor": 2
}
