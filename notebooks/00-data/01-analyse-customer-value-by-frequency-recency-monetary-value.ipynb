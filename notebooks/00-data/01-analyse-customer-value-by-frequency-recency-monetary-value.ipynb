{
 "cells": [
  {
   "cell_type": "markdown",
   "metadata": {},
   "source": [
    "# Analyse Customer Value by Frequency, Recency and Monetary Value\n",
    "ref: \n",
    "- [Customer Lifetime Value](https://clevertap.com/blog/customer-lifetime-value/)\n",
    "- [Frequency, Recency, Monetary Value Analysis](https://clevertap.com/blog/rfm-analysis/) | [whitepaper](https://info.clevertap.com/hubfs/Blog%20Images/A%20Quick%20Start%20Guide%20to%20Automated%20Segmentation%20(1).pdf?_hsmi=64667222&_hsenc=p2ANqtz-96Je_GDBFw8_9_MDcEkdq4SvOYni_MBWoopRVB4h87PHOHxkf039plUfRhUIPxxK7H6bkXki0pfix-uQeDz-0qfER-KQ) \n",
    "- [Customer Segmentation Blog](https://towardsdatascience.com/the-most-important-data-science-tool-for-market-and-customer-segmentation-c9709ca0b64a)\n",
    "\n",
    "Customer lifetime value (CLV), is the profit margin a company expects to earn over the entirety of their business relationship with the average customer.\n",
    "\n",
    "Some contributing factors:\n",
    "- customer churn rate\n",
    "- retention rate\n",
    "- sales & marketing strategy\n",
    "\n",
    "Business may use strategies such as: \n",
    "- **Impress** | by quality/pricing\n",
    "- **Engage**  | by sales & marketing strategies\n",
    "- **Retain**  | continue to impress and engage\n",
    "\n",
    "In this notebook, we explore customer segments by *Frequency*, *Recency* and *Monetary Value*\n",
    "\n",
    "## About Data\n",
    "\n",
    "Source: https://archive.ics.uci.edu/ml/datasets/online+retail#\n",
    "\n",
    "**Attribute Information**:\n",
    "\n",
    "`InvoiceNo`: Invoice number. Nominal, a 6-digit integral number uniquely assigned to each transaction. If this code starts with **letter 'c'**, it indicates a **cancellation**.\n",
    "\n",
    "`StockCode`: Product (item) code. Nominal, a 5-digit integral number **uniquely** assigned to each distinct product.\n",
    "\n",
    "`Description`: Product (item) name. Nominal.\n",
    "\n",
    "`Quantity`: The quantities of each product (item) per transaction. Numeric.\n",
    "\n",
    "`InvoiceDate`: Invice Date and time. Numeric, the day and time when each transaction was generated.\n",
    "\n",
    "`UnitPrice`: Unit price. Numeric, Product price per unit in **sterling**.\n",
    "\n",
    "`CustomerID`: Customer number. Nominal, a 5-digit integral number **uniquely** assigned to each customer.\n",
    "\n",
    "`Country`: Country name. Nominal, the name of the country where each **customer resides**."
   ]
  },
  {
   "cell_type": "markdown",
   "metadata": {},
   "source": [
    "# Set up"
   ]
  },
  {
   "cell_type": "code",
   "execution_count": null,
   "metadata": {},
   "outputs": [],
   "source": [
    "%load_ext autoreload\n",
    "%autoreload 2\n",
    "\n",
    "from IPython.core.interactiveshell import InteractiveShell\n",
    "InteractiveShell.ast_node_interactivity = \"all\"\n",
    "\n",
    "import matplotlib.pyplot as plt\n",
    "import seaborn as sns\n",
    "import numpy as np \n",
    "import pandas as pd"
   ]
  },
  {
   "cell_type": "markdown",
   "metadata": {},
   "source": [
    "# Data\n",
    "## Load Data\n",
    "Cell below assumed that dataset is registered in AML Workspace."
   ]
  },
  {
   "cell_type": "code",
   "execution_count": null,
   "metadata": {},
   "outputs": [],
   "source": [
    "# azureml-core of version 1.0.72 or higher is required\n",
    "# azureml-dataprep[pandas] of version 1.1.34 or higher is required\n",
    "from azureml.core import Workspace, Dataset\n",
    "\n",
    "workspace = Workspace.from_config()\n",
    "print(workspace.name, workspace.resource_group, workspace.location, workspace.subscription_id, sep = '\\n')\n",
    "\n",
    "dataset = Dataset.get_by_name(workspace, name='online-retail-processed')\n",
    "df_orig = dataset.to_pandas_dataframe()"
   ]
  },
  {
   "cell_type": "code",
   "execution_count": null,
   "metadata": {},
   "outputs": [],
   "source": [
    "df = df_orig.copy()\n",
    "df['InvoiceDate'] = pd.to_datetime(df['InvoiceDate'], errors ='coerce')\n",
    "df.dtypes"
   ]
  },
  {
   "cell_type": "markdown",
   "metadata": {},
   "source": [
    "## Normalise Data\n",
    "\n",
    "- Check if `StockCode` has consistent `Description` < TO DO>"
   ]
  },
  {
   "cell_type": "markdown",
   "metadata": {},
   "source": [
    "## Prepare Features\n",
    "\n",
    "### Derive new features:\n",
    "- ~~`OrderCancelled` : Create a new column to indicate the order is cancelled. Boolean.~~\n",
    "- `TotalSum` : Create a new column to indicate the total sum of an order, i.e. `Quantity` x `UnitPrice`"
   ]
  },
  {
   "cell_type": "markdown",
   "metadata": {},
   "source": [
    "## Select Data\n",
    "- Select data within the range of last 12 months"
   ]
  },
  {
   "cell_type": "code",
   "execution_count": null,
   "metadata": {},
   "outputs": [],
   "source": [
    "# Filter data between two dates\n",
    "df_sub = df.loc[(df['InvoiceDate'] >= '2011-06-1')\n",
    "           & (df['InvoiceDate'] < '2011-12-1')].copy()\n",
    "\n",
    "df_sub.describe(include='all', datetime_is_numeric=True)"
   ]
  },
  {
   "cell_type": "markdown",
   "metadata": {},
   "source": [
    "Note:\n",
    "- extreme value\n",
    "    - `Quantity` : -80995, 80995\n",
    "    - `UnitPrice` : 38970.00"
   ]
  },
  {
   "cell_type": "markdown",
   "metadata": {},
   "source": [
    "## Aggregate Data"
   ]
  },
  {
   "cell_type": "markdown",
   "metadata": {},
   "source": [
    "### Aggregate transactions by `CustomerID`\n",
    "- Aggregate by accounting for effective `quantity`, i.e. taking into account when items are returned. e.g. if bought 10 units, then return 3 units, effective `Quantity` is 7 units"
   ]
  },
  {
   "cell_type": "markdown",
   "metadata": {},
   "source": [
    "Note:\n",
    "- Effective `Quantity` >= 0"
   ]
  },
  {
   "cell_type": "code",
   "execution_count": null,
   "metadata": {},
   "outputs": [],
   "source": [
    "# group by 'CustomerID', 'StockCode', 'UnitPrice', 'Country', then, get the sum of `Quantity`\n",
    "df_effective_quantity = df_sub.groupby(['CustomerID', 'StockCode', 'UnitPrice', 'Country'], as_index=False, observed=True)['Quantity'].sum() \n",
    "\n",
    "df_effective_quantity.describe()\n",
    "df_effective_quantity"
   ]
  },
  {
   "cell_type": "code",
   "execution_count": null,
   "metadata": {},
   "outputs": [],
   "source": [
    "df_effective_quantity[df_effective_quantity['Quantity'] < 0]"
   ]
  },
  {
   "cell_type": "markdown",
   "metadata": {},
   "source": [
    "### Remove `CustomerID` where `df_effective_quantity['Quantity']<0`, if exist"
   ]
  },
  {
   "cell_type": "code",
   "execution_count": null,
   "metadata": {},
   "outputs": [],
   "source": [
    "condition = (df_effective_quantity['Quantity']<0)\n",
    "CustomerID_remove = df_effective_quantity[condition]['CustomerID'].unique()\n",
    "CustomerID_remove"
   ]
  },
  {
   "cell_type": "code",
   "execution_count": null,
   "metadata": {},
   "outputs": [],
   "source": [
    "df_sub.shape\n",
    "df_sub = df_sub[~df_sub['CustomerID'].isin(CustomerID_remove)]\n",
    "df_sub.shape"
   ]
  },
  {
   "cell_type": "code",
   "execution_count": null,
   "metadata": {},
   "outputs": [],
   "source": [
    "df_sub.describe(include='all', datetime_is_numeric=True)"
   ]
  },
  {
   "cell_type": "markdown",
   "metadata": {},
   "source": [
    "#### Check again"
   ]
  },
  {
   "cell_type": "code",
   "execution_count": null,
   "metadata": {},
   "outputs": [],
   "source": [
    "# group by 'CustomerID', 'StockCode', 'UnitPrice', 'Country', then, get the sum of `Quantity`\n",
    "df_effective_quantity = df_sub.groupby(['CustomerID', 'StockCode', 'UnitPrice', 'Country'], as_index=False, observed=True)['Quantity'].sum() \n",
    "\n",
    "df_effective_quantity.describe()\n",
    "df_effective_quantity\n",
    "\n",
    "# check for effective 'Quantity' < 0\n",
    "df_effective_quantity[df_effective_quantity['Quantity'] < 0]"
   ]
  },
  {
   "cell_type": "markdown",
   "metadata": {},
   "source": [
    "Note:\n",
    "- At this stage, `df_sub`:\n",
    "    - date range 2021-6-1 to 2021-12-1\n",
    "    - contains transactions of `CustomerID` where effective `Quantity` is >= 0"
   ]
  },
  {
   "cell_type": "code",
   "execution_count": null,
   "metadata": {},
   "outputs": [],
   "source": [
    "df_sub.describe(include='all', datetime_is_numeric=True)"
   ]
  },
  {
   "cell_type": "markdown",
   "metadata": {},
   "source": [
    "## Aggregate transactions by `CustomerID`"
   ]
  },
  {
   "cell_type": "code",
   "execution_count": null,
   "metadata": {},
   "outputs": [],
   "source": [
    "df_effective_quantity.describe(include='all', datetime_is_numeric=True)\n",
    "df_effective_quantity"
   ]
  },
  {
   "cell_type": "markdown",
   "metadata": {},
   "source": [
    "### Create a column `TotalSum`"
   ]
  },
  {
   "cell_type": "code",
   "execution_count": null,
   "metadata": {},
   "outputs": [],
   "source": [
    "df_sub['TotalSum'] = df_sub['Quantity'] * df_sub['UnitPrice']\n",
    "df_sub"
   ]
  },
  {
   "cell_type": "markdown",
   "metadata": {},
   "source": [
    "## Analyse Customer Value"
   ]
  },
  {
   "cell_type": "markdown",
   "metadata": {},
   "source": [
    "## Frequency, Recency, Monetary"
   ]
  },
  {
   "cell_type": "code",
   "execution_count": null,
   "metadata": {},
   "outputs": [],
   "source": [
    "# Snapshot at latest date of this dataset\n",
    "snapshot_date = df_sub['InvoiceDate'].max()\n",
    "snapshot_date\n",
    "\n",
    "# Calculate Recency, Frequency and Monetary value for each customer\n",
    "df_frm = df_sub.groupby(['CustomerID']).agg({'InvoiceDate' : lambda x : (snapshot_date - x.max()).days,\n",
    "                                             'InvoiceNo' : 'count',\n",
    "                                             'TotalSum' : 'sum'}).rename(columns={'InvoiceDate' : 'Recency(Days)',\n",
    "                                                                                  'InvoiceNo' : 'Frequency',\n",
    "                                                                                  'TotalSum' : 'Monetary(£)'})\n",
    "\n",
    "df_frm"
   ]
  },
  {
   "cell_type": "code",
   "execution_count": null,
   "metadata": {},
   "outputs": [],
   "source": [
    "df_frm.describe()"
   ]
  },
  {
   "cell_type": "markdown",
   "metadata": {},
   "source": [
    "### Pair Plot"
   ]
  },
  {
   "cell_type": "code",
   "execution_count": null,
   "metadata": {},
   "outputs": [],
   "source": [
    "_ = sns.pairplot(df_frm, height=3, aspect=1.2)"
   ]
  },
  {
   "cell_type": "markdown",
   "metadata": {},
   "source": [
    "### Map `df_rfm` to normal distribution"
   ]
  },
  {
   "cell_type": "code",
   "execution_count": null,
   "metadata": {},
   "outputs": [],
   "source": [
    "from sklearn.preprocessing import PowerTransformer\n",
    "import pickle\n",
    "\n",
    "ptransformer = PowerTransformer(method=\"yeo-johnson\")\n",
    "\n",
    "df_frm_transformed = pd.DataFrame(ptransformer.fit(df_frm).transform(df_frm), \n",
    "                                  columns=['Recency(Days)',\t'Frequency', 'Monetary(£)'])\n",
    "\n",
    "\n",
    "# if False: \n",
    "if True: # Uncomment to save\n",
    "    ptransformer_filepath = f'../../.aml/models/powertransformer.pkl'\n",
    "    pickle.dump(ptransformer, open(ptransformer_filepath, \"wb\"))"
   ]
  },
  {
   "cell_type": "markdown",
   "metadata": {},
   "source": [
    "### Register Transformer Model"
   ]
  },
  {
   "cell_type": "code",
   "execution_count": null,
   "metadata": {},
   "outputs": [],
   "source": [
    "if True:\n",
    "# if False:\n",
    "    from azure.ai.ml import MLClient\n",
    "    from azure.ai.ml.entities import Model\n",
    "    #from azure.ai.ml._constants import ModelType\n",
    "    from azure.identity import DefaultAzureCredential\n",
    "\n",
    "    # get a handle to the workspace\n",
    "    ml_client = MLClient(credential=DefaultAzureCredential(), \n",
    "                        subscription_id=workspace.subscription_id, \n",
    "                        resource_group_name=workspace.resource_group, \n",
    "                        workspace_name=workspace.name)\n",
    "    ml_client\n",
    "\n",
    "    model_filepath = f'../../.aml/models/powertransformer.pkl'\n",
    "\n",
    "    file_model = Model(\n",
    "        path = model_filepath,\n",
    "        #type=ModelType.CUSTOM,\n",
    "        name = \"powertransformer\",\n",
    "        description = \"powertransformer.pkl\",\n",
    "        auto_increment_version = True,)\n",
    "    \n",
    "    ml_client.models.create_or_update(file_model)"
   ]
  },
  {
   "cell_type": "code",
   "execution_count": null,
   "metadata": {},
   "outputs": [],
   "source": [
    "pplt = sns.pairplot(df_frm_transformed, height=3, aspect=1.2)\n",
    "_ = pplt.fig.suptitle('Normalised Frequency, Recency, Monetary Distribution', y=1.02) # y is position of title"
   ]
  },
  {
   "cell_type": "markdown",
   "metadata": {},
   "source": [
    "# Data Management"
   ]
  },
  {
   "cell_type": "markdown",
   "metadata": {},
   "source": [
    "## Upload to Blob Storage"
   ]
  },
  {
   "cell_type": "code",
   "execution_count": null,
   "metadata": {},
   "outputs": [],
   "source": [
    "from azureml.core import Workspace, Dataset\n",
    "\n",
    "datastore = workspace.get_default_datastore()\n",
    "\n",
    "if True:\n",
    "# if False: # Replace `False` with `True` to run code below\n",
    "    filename = '../../.aml/data/online-retail-frm.csv'\n",
    "\n",
    "    # Save to local\n",
    "    df_frm_transformed.to_csv(filename, index=False)\n",
    "\n",
    "    # Upload to DataStore\n",
    "    Dataset.File.upload_directory('../../.aml/data', datastore)"
   ]
  },
  {
   "cell_type": "markdown",
   "metadata": {},
   "source": [
    "## Register `df_rfm_transformed` as Dataset"
   ]
  },
  {
   "cell_type": "code",
   "execution_count": null,
   "metadata": {},
   "outputs": [],
   "source": [
    "from azureml.core import Workspace, Dataset\n",
    "\n",
    "datastore = workspace.get_default_datastore()\n",
    "\n",
    "if True:\n",
    "# if False: # Replace `False` with `True` to run code below\n",
    "\n",
    "    # Dataset name to register as \n",
    "    name = 'online-retail-frm'\n",
    "\n",
    "    # create a new dataset\n",
    "    Dataset.Tabular.register_pandas_dataframe(dataframe=df_frm_transformed, \n",
    "                                            target=datastore, \n",
    "                                            name=name, \n",
    "                                            show_progress=True, \n",
    "                                            tags={'Purpose':'Tutorial'})"
   ]
  }
 ],
 "metadata": {
  "interpreter": {
   "hash": "445c00fd7a4b4f8166fc18a5891a54272a4de61d1da772487512a90ebc4e26fc"
  },
  "kernelspec": {
   "display_name": "Python 3.8.5 ('azureml_py38_dev')",
   "language": "python",
   "name": "python3"
  },
  "language_info": {
   "codemirror_mode": {
    "name": "ipython",
    "version": 3
   },
   "file_extension": ".py",
   "mimetype": "text/x-python",
   "name": "python",
   "nbconvert_exporter": "python",
   "pygments_lexer": "ipython3",
   "version": "3.8.5"
  },
  "orig_nbformat": 4
 },
 "nbformat": 4,
 "nbformat_minor": 2
}
