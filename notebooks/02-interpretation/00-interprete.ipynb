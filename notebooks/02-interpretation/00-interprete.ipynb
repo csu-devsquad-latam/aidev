{
  "cells": [
    {
      "cell_type": "markdown",
      "metadata": {},
      "source": [
        "# Inteprate Clusters\n",
        "ref:\n",
        "- "
      ]
    },
    {
      "cell_type": "markdown",
      "metadata": {},
      "source": [
        "# Set up"
      ]
    },
    {
      "cell_type": "code",
      "execution_count": null,
      "metadata": {},
      "outputs": [],
      "source": [
        "%load_ext autoreload\n",
        "%autoreload 2\n",
        "\n",
        "from IPython.core.interactiveshell import InteractiveShell\n",
        "InteractiveShell.ast_node_interactivity = \"all\"\n",
        "\n",
        "import matplotlib.pyplot as plt\n",
        "import seaborn as sns\n",
        "import pandas as pd\n",
        "import pickle"
      ]
    },
    {
      "cell_type": "markdown",
      "metadata": {},
      "source": [
        "## Load Model\n",
        "This notebook assumed that there is a model saved locally."
      ]
    },
    {
      "cell_type": "code",
      "execution_count": null,
      "metadata": {},
      "outputs": [],
      "source": [
        "# load the model\n",
        "model_filepath = '../../.aml/models/mini-batch-k-means-customer-segmentation.pkl'\n",
        "km = pickle.load(open(model_filepath, \"rb\"))\n",
        "\n",
        "# use model to predict\n",
        "#y = km.predict(X_mixed)"
      ]
    },
    {
      "cell_type": "markdown",
      "metadata": {},
      "source": [
        "## Load `PowerTransformer`\n",
        "This notebook assumed that there is a `PowerTransformer` saved locally."
      ]
    },
    {
      "cell_type": "code",
      "execution_count": null,
      "metadata": {},
      "outputs": [],
      "source": [
        "ptransformer_filepath = f'../../.aml/models/powertransformer.pkl'\n",
        "ptransformer = pickle.load(open(ptransformer_filepath, \"rb\"))"
      ]
    },
    {
      "cell_type": "markdown",
      "metadata": {},
      "source": [
        "### Get Cluster Centroid"
      ]
    },
    {
      "cell_type": "markdown",
      "metadata": {},
      "source": [
        "#### Inverse Transformed Cluster Centroid for Interpretation"
      ]
    },
    {
      "cell_type": "code",
      "execution_count": null,
      "metadata": {},
      "outputs": [],
      "source": [
        "column_names=['Recency(Days)',\t'Frequency', 'Monetary(£)']\n",
        "\n",
        "km_cluster_centers = pd.DataFrame(ptransformer.inverse_transform(km.cluster_centers_), columns=column_names)\n",
        "km_cluster_centers['Cluster_Label'] = km_cluster_centers.index\n",
        "km_cluster_centers"
      ]
    },
    {
      "cell_type": "markdown",
      "metadata": {},
      "source": [
        "#### Normalised Cluster Centroid for Visualisation"
      ]
    },
    {
      "cell_type": "code",
      "execution_count": null,
      "metadata": {},
      "outputs": [],
      "source": [
        "column_names=['Recency(Days)',\t'Frequency', 'Monetary(£)']\n",
        "\n",
        "km_cluster_centers_transformed = pd.DataFrame(km.cluster_centers_, columns=column_names)\n",
        "km_cluster_centers_transformed['Cluster_Label'] = km_cluster_centers_transformed.index\n",
        "km_cluster_centers_transformed"
      ]
    },
    {
      "cell_type": "markdown",
      "metadata": {},
      "source": [
        "### Visualisation"
      ]
    },
    {
      "cell_type": "code",
      "execution_count": null,
      "metadata": {},
      "outputs": [],
      "source": [
        "# Reshape data for snake plot\n",
        "cluster_melt = pd.melt(km_cluster_centers_transformed.reset_index(),\n",
        "                       id_vars = ['Cluster_Label'],\n",
        "                       value_vars = column_names,\n",
        "                       var_name = 'Features',\n",
        "                       value_name = 'Value')"
      ]
    },
    {
      "cell_type": "code",
      "execution_count": null,
      "metadata": {},
      "outputs": [],
      "source": [
        "def snakeplot(data):\n",
        "    _ = plt.figure(figsize=(10,6))\n",
        "    _ = plt.title('Snake plot of features for each cluster')\n",
        "    _ = sns.lineplot(x=\"Features\", y=\"Value\", hue='Cluster_Label', data=data, palette='Set2')"
      ]
    },
    {
      "cell_type": "code",
      "execution_count": null,
      "metadata": {},
      "outputs": [],
      "source": [
        "snakeplot(cluster_melt)"
      ]
    },
    {
      "cell_type": "markdown",
      "metadata": {},
      "source": [
        "### Possible Intepretation\n",
        "\n",
        "Cluster | Recency(Days)                 | Frequency (last 6 months) | Monetary(£) last 6 months | Recommended Action / Thoughts |\n",
        "---     | ---                           | ---                       | ---                       | --- |\n",
        "0       | Active since last 2 weeks     | 100 transactions          | 1500                      | Very frequent customers who rely on online shopping. |\n",
        "1       | Active since last 3 months    | 30 transactions           | 500                       | Inactive for a while, but has been typical in spending. |\n",
        "2       | Active since last 3 months    | 7 transactions            | 150                       | Inactive for a while, and probably not rugular customer. |\n",
        "3       | Active since last 2 weeks     | 20 transactions           | 350                       | Active and regular, typical spending. |\n"
      ]
    },
    {
      "cell_type": "markdown",
      "metadata": {},
      "source": []
    }
  ],
  "metadata": {
    "interpreter": {
      "hash": "445c00fd7a4b4f8166fc18a5891a54272a4de61d1da772487512a90ebc4e26fc"
    },
    "kernel_info": {
      "name": "python3"
    },
    "kernelspec": {
      "display_name": "Python 3.8.5 ('azureml_py38_dev')",
      "language": "python",
      "name": "python3"
    },
    "language_info": {
      "codemirror_mode": {
        "name": "ipython",
        "version": 3
      },
      "file_extension": ".py",
      "mimetype": "text/x-python",
      "name": "python",
      "nbconvert_exporter": "python",
      "pygments_lexer": "ipython3",
      "version": "3.8.5"
    },
    "nteract": {
      "version": "nteract-front-end@1.0.0"
    },
    "orig_nbformat": 4
  },
  "nbformat": 4,
  "nbformat_minor": 0
}
