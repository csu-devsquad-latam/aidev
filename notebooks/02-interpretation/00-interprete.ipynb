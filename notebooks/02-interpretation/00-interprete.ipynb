{
  "cells": [
    {
      "cell_type": "markdown",
      "metadata": {},
      "source": [
        "# Interprate Clusters\n",
        "\n",
        "Here, we attempt to interprete the clusters segmented by Mini Batch K-Means based on the customers transaction data described by Frequency, Recency and Monetary. \n",
        "\n",
        "This is just a possible examplar interpretation, but not the absolute interpretation.\n",
        "\n",
        "\n",
        "Notebooks Sequence:\n",
        "- [/00-data/00-explore-and-prepare-data.ipynb](../00-data/00-explore-and-prepare-data.ipynb)\n",
        "- [/00-data/01-analyse-customer-value-by-frequency-recency-monetary-value.ipynb](../00-data/01-analyse-customer-value-by-frequency-recency-monetary-value.ipynb)\n",
        "- [/01-clustering/00-clustering-by-mini-batch-k-means.ipynb](../01-clustering/00-clustering-by-mini-batch-k-means.ipynb)\n",
        "- [This Notebook](00-interprete.ipynb)"
      ]
    },
    {
      "cell_type": "markdown",
      "metadata": {},
      "source": [
        "# Set up"
      ]
    },
    {
      "cell_type": "code",
      "execution_count": 1,
      "metadata": {},
      "outputs": [],
      "source": [
        "%load_ext autoreload\n",
        "%autoreload 2\n",
        "\n",
        "from IPython.core.interactiveshell import InteractiveShell\n",
        "InteractiveShell.ast_node_interactivity = \"all\"\n",
        "\n",
        "import matplotlib.pyplot as plt\n",
        "import seaborn as sns\n",
        "import pandas as pd\n",
        "import pickle"
      ]
    },
    {
      "cell_type": "markdown",
      "metadata": {},
      "source": [
        "## Load Model\n",
        "This notebook assumed that customer segment model, `mini-batch-k-means-customer-segmentation.pkl`, is saved locally."
      ]
    },
    {
      "cell_type": "code",
      "execution_count": 2,
      "metadata": {},
      "outputs": [
        {
          "name": "stderr",
          "output_type": "stream",
          "text": [
            "/anaconda/envs/py38_mlflow/lib/python3.8/site-packages/sklearn/base.py:329: UserWarning: Trying to unpickle estimator MiniBatchKMeans from version 1.0.2 when using version 1.1.1. This might lead to breaking code or invalid results. Use at your own risk. For more info please refer to:\n",
            "https://scikit-learn.org/stable/model_persistence.html#security-maintainability-limitations\n",
            "  warnings.warn(\n"
          ]
        }
      ],
      "source": [
        "# load the model\n",
        "model_filepath = '../../.aml/models/mini-batch-k-means-customer-segmentation.pkl'\n",
        "km = pickle.load(open(model_filepath, \"rb\"))"
      ]
    },
    {
      "cell_type": "markdown",
      "metadata": {},
      "source": [
        "## Load `PowerTransformer`\n",
        "This notebook assumed that the data transformation model, `powertransformer.pkl` is saved locally."
      ]
    },
    {
      "cell_type": "code",
      "execution_count": 3,
      "metadata": {},
      "outputs": [
        {
          "name": "stderr",
          "output_type": "stream",
          "text": [
            "/anaconda/envs/py38_mlflow/lib/python3.8/site-packages/sklearn/base.py:329: UserWarning: Trying to unpickle estimator StandardScaler from version 1.0.2 when using version 1.1.1. This might lead to breaking code or invalid results. Use at your own risk. For more info please refer to:\n",
            "https://scikit-learn.org/stable/model_persistence.html#security-maintainability-limitations\n",
            "  warnings.warn(\n",
            "/anaconda/envs/py38_mlflow/lib/python3.8/site-packages/sklearn/base.py:329: UserWarning: Trying to unpickle estimator PowerTransformer from version 1.0.2 when using version 1.1.1. This might lead to breaking code or invalid results. Use at your own risk. For more info please refer to:\n",
            "https://scikit-learn.org/stable/model_persistence.html#security-maintainability-limitations\n",
            "  warnings.warn(\n"
          ]
        }
      ],
      "source": [
        "ptransformer_filepath = f'../../.aml/models/powertransformer.pkl'\n",
        "ptransformer = pickle.load(open(ptransformer_filepath, \"rb\"))"
      ]
    },
    {
      "cell_type": "markdown",
      "metadata": {},
      "source": [
        "## Get Cluster Centroid\n",
        "\n",
        "Cluster centroid could be interprated as a typical example characteristics of that cluster. \n",
        "\n",
        "Because the data were transfomerd via Power Transformer, hence, for interpretation purposes, the data is required to be inversed, so that the value match teh original range, therefore would make logical sense. This will inverse the transformed data back to the original range as seen in [01-analyse-customer-value-by-frequency-recency-monetary-value.ipynb](../00-data/01-analyse-customer-value-by-frequency-recency-monetary-value.ipynb)"
      ]
    },
    {
      "cell_type": "markdown",
      "metadata": {},
      "source": [
        "#### Inverse Transformed Cluster Centroid for Interpretation"
      ]
    },
    {
      "cell_type": "code",
      "execution_count": 4,
      "metadata": {},
      "outputs": [
        {
          "name": "stderr",
          "output_type": "stream",
          "text": [
            "/anaconda/envs/py38_mlflow/lib/python3.8/site-packages/sklearn/base.py:450: UserWarning: X does not have valid feature names, but PowerTransformer was fitted with feature names\n",
            "  warnings.warn(\n"
          ]
        },
        {
          "data": {
            "text/html": [
              "<div>\n",
              "<style scoped>\n",
              "    .dataframe tbody tr th:only-of-type {\n",
              "        vertical-align: middle;\n",
              "    }\n",
              "\n",
              "    .dataframe tbody tr th {\n",
              "        vertical-align: top;\n",
              "    }\n",
              "\n",
              "    .dataframe thead th {\n",
              "        text-align: right;\n",
              "    }\n",
              "</style>\n",
              "<table border=\"1\" class=\"dataframe\">\n",
              "  <thead>\n",
              "    <tr style=\"text-align: right;\">\n",
              "      <th></th>\n",
              "      <th>Recency(Days)</th>\n",
              "      <th>Frequency</th>\n",
              "      <th>Monetary(£)</th>\n",
              "      <th>Cluster_Label</th>\n",
              "    </tr>\n",
              "  </thead>\n",
              "  <tbody>\n",
              "    <tr>\n",
              "      <th>0</th>\n",
              "      <td>9.672871</td>\n",
              "      <td>19.882943</td>\n",
              "      <td>346.019079</td>\n",
              "      <td>0</td>\n",
              "    </tr>\n",
              "    <tr>\n",
              "      <th>1</th>\n",
              "      <td>93.166684</td>\n",
              "      <td>7.813533</td>\n",
              "      <td>156.812720</td>\n",
              "      <td>1</td>\n",
              "    </tr>\n",
              "    <tr>\n",
              "      <th>2</th>\n",
              "      <td>13.206959</td>\n",
              "      <td>110.063176</td>\n",
              "      <td>1655.646671</td>\n",
              "      <td>2</td>\n",
              "    </tr>\n",
              "    <tr>\n",
              "      <th>3</th>\n",
              "      <td>75.130927</td>\n",
              "      <td>34.352951</td>\n",
              "      <td>542.894671</td>\n",
              "      <td>3</td>\n",
              "    </tr>\n",
              "  </tbody>\n",
              "</table>\n",
              "</div>"
            ],
            "text/plain": [
              "   Recency(Days)   Frequency  Monetary(£)  Cluster_Label\n",
              "0       9.672871   19.882943   346.019079              0\n",
              "1      93.166684    7.813533   156.812720              1\n",
              "2      13.206959  110.063176  1655.646671              2\n",
              "3      75.130927   34.352951   542.894671              3"
            ]
          },
          "execution_count": 4,
          "metadata": {},
          "output_type": "execute_result"
        }
      ],
      "source": [
        "# Set column names\n",
        "column_names=['Recency(Days)',\t'Frequency', 'Monetary(£)']\n",
        "\n",
        "# Inverse transform cluster's centers\n",
        "km_cluster_centers = pd.DataFrame(ptransformer.inverse_transform(km.cluster_centers_), columns=column_names)\n",
        "\n",
        "# Add new column 'Cluster_Label', taking the value of the model predictions\n",
        "km_cluster_centers['Cluster_Label'] = km_cluster_centers.index\n",
        "\n",
        "# Display\n",
        "km_cluster_centers"
      ]
    },
    {
      "cell_type": "markdown",
      "metadata": {},
      "source": [
        "As shown above, now the values for the column Recency, Frequency and Monetary makes logical sense, and can be interpreted.\n",
        "\n",
        "Prior to inversely transformed, it looks like below, which would be difficult to interprete. "
      ]
    },
    {
      "cell_type": "code",
      "execution_count": 5,
      "metadata": {},
      "outputs": [
        {
          "data": {
            "text/plain": [
              "array([[-0.93879993, -0.37258822, -0.35215717],\n",
              "       [ 0.89383271, -1.12247095, -1.03906657],\n",
              "       [-0.75691521,  1.15314965,  1.12073831],\n",
              "       [ 0.66172363,  0.09746987,  0.05584866]])"
            ]
          },
          "execution_count": 5,
          "metadata": {},
          "output_type": "execute_result"
        }
      ],
      "source": [
        "km.cluster_centers_"
      ]
    },
    {
      "cell_type": "markdown",
      "metadata": {},
      "source": [
        "## Visualisation\n",
        "\n",
        "However, for visualisation purposes, we want to use the transformed version.\n",
        "\n",
        "We also add the label to the dataframe for visualisation purpose."
      ]
    },
    {
      "cell_type": "code",
      "execution_count": 6,
      "metadata": {},
      "outputs": [
        {
          "data": {
            "text/html": [
              "<div>\n",
              "<style scoped>\n",
              "    .dataframe tbody tr th:only-of-type {\n",
              "        vertical-align: middle;\n",
              "    }\n",
              "\n",
              "    .dataframe tbody tr th {\n",
              "        vertical-align: top;\n",
              "    }\n",
              "\n",
              "    .dataframe thead th {\n",
              "        text-align: right;\n",
              "    }\n",
              "</style>\n",
              "<table border=\"1\" class=\"dataframe\">\n",
              "  <thead>\n",
              "    <tr style=\"text-align: right;\">\n",
              "      <th></th>\n",
              "      <th>Recency(Days)</th>\n",
              "      <th>Frequency</th>\n",
              "      <th>Monetary(£)</th>\n",
              "      <th>Cluster_Label</th>\n",
              "    </tr>\n",
              "  </thead>\n",
              "  <tbody>\n",
              "    <tr>\n",
              "      <th>0</th>\n",
              "      <td>-0.938800</td>\n",
              "      <td>-0.372588</td>\n",
              "      <td>-0.352157</td>\n",
              "      <td>0</td>\n",
              "    </tr>\n",
              "    <tr>\n",
              "      <th>1</th>\n",
              "      <td>0.893833</td>\n",
              "      <td>-1.122471</td>\n",
              "      <td>-1.039067</td>\n",
              "      <td>1</td>\n",
              "    </tr>\n",
              "    <tr>\n",
              "      <th>2</th>\n",
              "      <td>-0.756915</td>\n",
              "      <td>1.153150</td>\n",
              "      <td>1.120738</td>\n",
              "      <td>2</td>\n",
              "    </tr>\n",
              "    <tr>\n",
              "      <th>3</th>\n",
              "      <td>0.661724</td>\n",
              "      <td>0.097470</td>\n",
              "      <td>0.055849</td>\n",
              "      <td>3</td>\n",
              "    </tr>\n",
              "  </tbody>\n",
              "</table>\n",
              "</div>"
            ],
            "text/plain": [
              "   Recency(Days)  Frequency  Monetary(£)  Cluster_Label\n",
              "0      -0.938800  -0.372588    -0.352157              0\n",
              "1       0.893833  -1.122471    -1.039067              1\n",
              "2      -0.756915   1.153150     1.120738              2\n",
              "3       0.661724   0.097470     0.055849              3"
            ]
          },
          "execution_count": 6,
          "metadata": {},
          "output_type": "execute_result"
        }
      ],
      "source": [
        "# Set column names\n",
        "column_names=['Recency(Days)',\t'Frequency', 'Monetary(£)']\n",
        "\n",
        "# Convert to DataFrame\n",
        "km_cluster_centers_transformed = pd.DataFrame(km.cluster_centers_, columns=column_names)\n",
        "\n",
        "# Add cluster's label to new column 'Cluster_Label'\n",
        "km_cluster_centers_transformed['Cluster_Label'] = km_cluster_centers_transformed.index\n",
        "\n",
        "# Display\n",
        "km_cluster_centers_transformed"
      ]
    },
    {
      "cell_type": "markdown",
      "metadata": {},
      "source": [
        "### Snake Plot\n",
        "\n",
        "Snake plot provide a convenient way to visualise the differences between all the clusters, which will help with interpreting what each cluster means."
      ]
    },
    {
      "cell_type": "code",
      "execution_count": 7,
      "metadata": {},
      "outputs": [],
      "source": [
        "# Reshape data for snake plot\n",
        "cluster_melt = pd.melt(km_cluster_centers_transformed.reset_index(),\n",
        "                       id_vars = ['Cluster_Label'],\n",
        "                       value_vars = column_names,\n",
        "                       var_name = 'Features',\n",
        "                       value_name = 'Value')"
      ]
    },
    {
      "cell_type": "code",
      "execution_count": 8,
      "metadata": {},
      "outputs": [],
      "source": [
        "def snakeplot(data):\n",
        "    _ = plt.figure(figsize=(10,6))\n",
        "    _ = plt.title('Snake plot of features for each cluster')\n",
        "    _ = sns.lineplot(x=\"Features\", y=\"Value\", hue='Cluster_Label', data=data, palette='Set2')"
      ]
    },
    {
      "cell_type": "code",
      "execution_count": 9,
      "metadata": {},
      "outputs": [
        {
          "data": {
            "image/png": "[encoded data removed]",
            "text/plain": [
              "<Figure size 720x432 with 1 Axes>"
            ]
          },
          "metadata": {
            "needs_background": "light"
          },
          "output_type": "display_data"
        }
      ],
      "source": [
        "snakeplot(cluster_melt)\n",
        "plt.show()"
      ]
    },
    {
      "cell_type": "markdown",
      "metadata": {},
      "source": [
        "### Possible Intepretation\n",
        "\n",
        "Cluster | Recency(Days)                 | Frequency (last 6 months) | Monetary(£) last 6 months | Examplar Interpretation |\n",
        "---     | ---                           | ---                       | ---                       | --- |\n",
        "0       | Active since last 2 weeks     | 100 transactions          | 1500                      | Very frequent customers with high monetary value. Could they be small businesses getting supplies from this online retailer? |\n",
        "1       | Active since last 3 months    | 30 transactions           | 500                       | Inactive for a while, but has been typical in spending. How much should be invested in getting them back?|\n",
        "2       | Active since last 3 months    | 7 transactions            | 150                       | Inactive for a while, and probably not rugular customer. Why is that the case? Are they not happy with the service?|\n",
        "3       | Active since last 2 weeks     | 20 transactions           | 350                       | Active and regular, typical spending. How to provide them with even better services, so that they can be an influencer? |\n"
      ]
    },
    {
      "cell_type": "markdown",
      "metadata": {},
      "source": [
        "Note:\n",
        "\n",
        "For example, cluster 0, with \n",
        "- Recency = -0.93880, Frequency = -0.372588, Monetary = -0.352157, \n",
        "\n",
        "can be mapped back to the orignal range as \n",
        "\n",
        "- Recency = 9.672871, Frequency = 19.882943, Monetary = 346.019079, \n",
        "\n",
        "giving examplar interpretation show in table above. "
      ]
    }
  ],
  "metadata": {
    "kernel_info": {
      "name": "python3"
    },
    "kernelspec": {
      "display_name": "Python 3.8.13 ('py38_mlflow')",
      "language": "python",
      "name": "python3"
    },
    "language_info": {
      "codemirror_mode": {
        "name": "ipython",
        "version": 3
      },
      "file_extension": ".py",
      "mimetype": "text/x-python",
      "name": "python",
      "nbconvert_exporter": "python",
      "pygments_lexer": "ipython3",
      "version": "3.8.13"
    },
    "nteract": {
      "version": "nteract-front-end@1.0.0"
    },
    "orig_nbformat": 4,
    "vscode": {
      "interpreter": {
        "hash": "d6619ec5b0a3c6c2ccaf5e9623172e672f8f7610f3834373a71af0164981b1d4"
      }
    }
  },
  "nbformat": 4,
  "nbformat_minor": 0
}
