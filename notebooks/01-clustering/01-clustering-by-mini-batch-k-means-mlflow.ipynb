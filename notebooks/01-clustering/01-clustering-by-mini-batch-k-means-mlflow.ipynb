{
  "cells": [
    {
      "cell_type": "markdown",
      "metadata": {},
      "source": [
        "# Clustering by Mini Batch K-Means\n",
        "\n",
        "Here, we apply Mini Batch K-Means in attempt to segment data described by Recency, Frequency and Monetary Value of this group of customers. See [](../00-data/01-analyse-customer-value-by-frequency-recency-monetary-value.ipynb) for how the data is prepared. \n",
        "\n",
        "\n",
        "References: \n",
        "- [K-Means](https://scikit-learn.org/stable/modules/clustering.html#k-means)\n",
        "- [Mini Batch K-Means](https://scikit-learn.org/stable/modules/generated/sklearn.cluster.MiniBatchKMeans.html)\n",
        "\n",
        "Notebooks Sequence:\n",
        "- [/00-data/00-explore-and-prepare-data.ipynb](../00-data/00-explore-and-prepare-data.ipynb)\n",
        "- [/00-data/01-analyse-customer-value-by-frequency-recency-monetary-value.ipynb](../00-data/01-analyse-customer-value-by-frequency-recency-monetary-value.ipynb)\n",
        "- [This Notebook](../01-clustering/00-clustering-by-mini-batch-k-means.ipynb)\n",
        "- [/02-interpretation/00-interprete.ipynb](../02-interpretation/00-interprete.ipynb)"
      ]
    },
    {
      "cell_type": "markdown",
      "metadata": {},
      "source": [
        "# Set up"
      ]
    },
    {
      "cell_type": "code",
      "execution_count": null,
      "metadata": {},
      "outputs": [],
      "source": [
        "%load_ext autoreload\n",
        "%autoreload 2\n",
        "\n",
        "from IPython.core.interactiveshell import InteractiveShell\n",
        "InteractiveShell.ast_node_interactivity = \"all\"\n",
        "\n",
        "from sklearn.cluster import MiniBatchKMeans\n",
        "import matplotlib.pyplot as plt\n",
        "import numpy as np\n",
        "import seaborn as sns\n",
        "import plotly.express as px\n",
        "import pandas as pd\n",
        "from sklearn.manifold import TSNE\n",
        "import pickle"
      ]
    },
    {
      "cell_type": "markdown",
      "metadata": {},
      "source": [
        "# Data\n",
        "## Load Data\n",
        "\n",
        "Cell below assumed that dataset is registered in AML Workspace."
      ]
    },
    {
      "cell_type": "code",
      "execution_count": null,
      "metadata": {},
      "outputs": [],
      "source": [
        "# azureml-core of version 1.0.72 or higher is required\n",
        "# azureml-dataprep[pandas] of version 1.1.34 or higher is required\n",
        "from azureml.core import Workspace, Dataset\n",
        "\n",
        "# Get information about worksapce\n",
        "workspace = Workspace.from_config()\n",
        "\n",
        "# Get dataset registered in AML by name\n",
        "dataset = Dataset.get_by_name(workspace, name='online-retail-frm')\n",
        "\n",
        "# Convert Dataset to Pandas DataFrame\n",
        "df_orig = dataset.to_pandas_dataframe()"
      ]
    },
    {
      "cell_type": "code",
      "execution_count": null,
      "metadata": {},
      "outputs": [],
      "source": [
        "# Make a copy\n",
        "df = df_orig.copy()\n",
        "df"
      ]
    },
    {
      "cell_type": "markdown",
      "metadata": {},
      "source": [
        "### Define `sklearn.pipeline`\n",
        "References:\n",
        "- [User Guide](https://scikit-learn.org/stable/modules/compose.html#pipeline)\n",
        "- [`sklearn.pipeline`](https://scikit-learn.org/stable/modules/generated/sklearn.pipeline.Pipeline.html)"
      ]
    },
    {
      "cell_type": "code",
      "execution_count": null,
      "metadata": {},
      "outputs": [],
      "source": [
        "from sklearn.preprocessing import PowerTransformer\n",
        "from sklearn.pipeline import Pipeline\n",
        "\n",
        "# Configure PowerTransformer\n",
        "ptransformer = PowerTransformer(method=\"yeo-johnson\")\n",
        "ptransformer\n",
        "\n",
        "# Configure kmeans\n",
        "n_clusters = 4\n",
        "batch_size = int(df.shape[0]*0.1)\n",
        "\n",
        "km = MiniBatchKMeans(n_clusters=n_clusters,\n",
        "                     random_state=9,\n",
        "                     batch_size=batch_size,\n",
        "                     max_iter=100)\n",
        "km\n",
        "\n",
        "pipeline = Pipeline(steps=[('ptransformer', ptransformer), ('mini-batch-k-means', km)],\n",
        "                    verbose=True)\n",
        "pipeline"
      ]
    },
    {
      "cell_type": "markdown",
      "metadata": {},
      "source": [
        "# MLFlow"
      ]
    },
    {
      "cell_type": "markdown",
      "metadata": {},
      "source": [
        "Create a new MLFlow experiment."
      ]
    },
    {
      "cell_type": "code",
      "execution_count": null,
      "metadata": {},
      "outputs": [],
      "source": [
        "import mlflow\n",
        "\n",
        "# Create an experiment\n",
        "experiment_id = mlflow.create_experiment(name='online-retail-customer-segmentation-mlflow', \n",
        "                                         tags={'purpose':'tutorial', 'pipeline':'sklearn.pipeline'})\n",
        "\n",
        "# Get experiment by experimnet_id\n",
        "experiment = mlflow.get_experiment(experiment_id=experiment_id)\n",
        "\n",
        "# Display\n",
        "experiment"
      ]
    },
    {
      "cell_type": "markdown",
      "metadata": {},
      "source": [
        "Set the above as active experiment"
      ]
    },
    {
      "cell_type": "markdown",
      "metadata": {},
      "source": [
        "## Imply input and output signature"
      ]
    },
    {
      "cell_type": "code",
      "execution_count": null,
      "metadata": {},
      "outputs": [],
      "source": [
        "from mlflow.models import infer_signature\n",
        "\n",
        "# Example input and output\n",
        "model_output = np.array([0, 2]) # example output, i.e. cluster label\n",
        "model_input = df.iloc[0:2]\n",
        "\n",
        "# Infer signature, i.e. input and output\n",
        "signature = infer_signature(model_input=model_input, model_output=model_output)\n",
        "signature"
      ]
    },
    {
      "cell_type": "markdown",
      "metadata": {},
      "source": [
        "## Fit the pipeline"
      ]
    },
    {
      "cell_type": "markdown",
      "metadata": {},
      "source": [
        "Fit the pipeline with `mlflow.sklearn.autolog()`."
      ]
    },
    {
      "cell_type": "code",
      "execution_count": null,
      "metadata": {},
      "outputs": [],
      "source": [
        "#mlflow.end_run()\n",
        "\n",
        "# Fit the pipeline\n",
        "with mlflow.start_run() as run:\n",
        "    pipeline.fit(df)\n",
        "    #mlflow.sklearn.autolog()\n",
        "    mlflow.sklearn.log_model(pipeline, artifact_path=\"model\", signature=signature) # You will get \"Outputs + logs\" /model/, /pipeline/. The content of 'MLModel' is slightly different"
      ]
    },
    {
      "cell_type": "markdown",
      "metadata": {},
      "source": [
        "## Load the trained model"
      ]
    },
    {
      "cell_type": "code",
      "execution_count": null,
      "metadata": {},
      "outputs": [],
      "source": [
        "run_id = run.info.run_id; run_id\n",
        "pipeline_model = mlflow.sklearn.load_model(f\"runs:/{run_id}/model\")\n",
        "type(pipeline_model)\n",
        "pipeline_model"
      ]
    },
    {
      "cell_type": "markdown",
      "metadata": {},
      "source": [
        "## Use model to predict"
      ]
    },
    {
      "cell_type": "code",
      "execution_count": null,
      "metadata": {},
      "outputs": [],
      "source": [
        "# Sample test data\n",
        "test_data = [[12, 109, 1647],  # cluster 2\n",
        "             [85, 33, 553],    # cluster 3\n",
        "             [84, 6, 146],     # cluster 1\n",
        "             [12, 22, 348]]    # cluster 0\n",
        "\n",
        "# Use trained model to predict\n",
        "pipeline_model.predict(test_data)"
      ]
    },
    {
      "cell_type": "markdown",
      "metadata": {},
      "source": [
        "The above warn about feature names, see cell below for resolution."
      ]
    },
    {
      "cell_type": "code",
      "execution_count": null,
      "metadata": {},
      "outputs": [],
      "source": [
        "# Sample test data\n",
        "data = [[12, 109, 1647],  # cluster 2\n",
        "        [85, 33, 553],    # cluster 3\n",
        "        [84, 6, 146],     # cluster 1\n",
        "        [12, 22, 348]]    # cluster 0\n",
        "\n",
        "test_data = pd.DataFrame(data, columns=['Recency(Days)', 'Frequency', 'Monetary(£)'])\n",
        "\n",
        "# Use trained model to predict\n",
        "pipeline_model.predict(test_data)"
      ]
    },
    {
      "cell_type": "markdown",
      "metadata": {},
      "source": [
        "## Retrieve `run` information"
      ]
    },
    {
      "cell_type": "markdown",
      "metadata": {},
      "source": [
        "### Retrieve `run` information"
      ]
    },
    {
      "cell_type": "code",
      "execution_count": null,
      "metadata": {},
      "outputs": [],
      "source": [
        "run.data"
      ]
    },
    {
      "cell_type": "code",
      "execution_count": null,
      "metadata": {},
      "outputs": [],
      "source": [
        "run.info"
      ]
    },
    {
      "cell_type": "markdown",
      "metadata": {},
      "source": [
        "### Retreive `artifacts`"
      ]
    },
    {
      "cell_type": "code",
      "execution_count": null,
      "metadata": {},
      "outputs": [],
      "source": [
        "# Retrieve mlflow tracking\n",
        "client = mlflow.tracking.MlflowClient()\n",
        "client\n",
        "\n",
        "# List mlflow artifacts\n",
        "client.list_artifacts(run_id=run.info.run_id)"
      ]
    },
    {
      "cell_type": "markdown",
      "metadata": {},
      "source": [
        "##"
      ]
    }
  ],
  "metadata": {
    "kernel_info": {
      "name": "python3"
    },
    "kernelspec": {
      "display_name": "Python 3.8.13 ('py38_clustering')",
      "language": "python",
      "name": "python3"
    },
    "language_info": {
      "codemirror_mode": {
        "name": "ipython",
        "version": 3
      },
      "file_extension": ".py",
      "mimetype": "text/x-python",
      "name": "python",
      "nbconvert_exporter": "python",
      "pygments_lexer": "ipython3",
      "version": "3.8.13"
    },
    "nteract": {
      "version": "nteract-front-end@1.0.0"
    },
    "orig_nbformat": 4,
    "vscode": {
      "interpreter": {
        "hash": "261a926e3fe4501a009724d08b8e7cf6ab75b485f0bd59eb63c3e8420c8c4f37"
      }
    }
  },
  "nbformat": 4,
  "nbformat_minor": 0
}
