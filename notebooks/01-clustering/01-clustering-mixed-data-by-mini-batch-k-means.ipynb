{
  "cells": [
    {
      "cell_type": "markdown",
      "metadata": {},
      "source": [
        "# Clustering by Mini Batch K-Means\n",
        "ref: \n",
        "- https://scikit-learn.org/stable/modules/generated/sklearn.cluster.KMeans.html#sklearn.cluster.KMeans\n",
        "- https://scikit-learn.org/stable/modules/clustering.html#k-means\n",
        "- https://scikit-learn.org/stable/modules/generated/sklearn.cluster.MiniBatchKMeans.html"
      ]
    },
    {
      "cell_type": "markdown",
      "metadata": {},
      "source": [
        "# Set up"
      ]
    },
    {
      "cell_type": "code",
      "execution_count": null,
      "metadata": {},
      "outputs": [],
      "source": [
        "%load_ext autoreload\n",
        "%autoreload 2\n",
        "\n",
        "from IPython.core.interactiveshell import InteractiveShell\n",
        "InteractiveShell.ast_node_interactivity = \"all\"\n",
        "\n",
        "from sklearn.cluster import MiniBatchKMeans\n",
        "import matplotlib.pyplot as plt\n",
        "import numpy as np\n",
        "import seaborn as sns\n",
        "import plotly.express as px\n",
        "import pandas as pd\n",
        "from sklearn.manifold import TSNE\n",
        "from datetime import datetime\n",
        "import pickle\n",
        "\n",
        "# scikit-learn==0.24.2"
      ]
    },
    {
      "cell_type": "markdown",
      "metadata": {},
      "source": [
        "# Data\n",
        "## Load Data\n",
        "\n",
        "Cell below assumed that dataset is registered in AML Workspace."
      ]
    },
    {
      "cell_type": "code",
      "execution_count": null,
      "metadata": {},
      "outputs": [],
      "source": [
        "# azureml-core of version 1.0.72 or higher is required\n",
        "# azureml-dataprep[pandas] of version 1.1.34 or higher is required\n",
        "from azureml.core import Workspace, Dataset\n",
        "\n",
        "workspace = Workspace.from_config()\n",
        "print(workspace.name, workspace.resource_group, workspace.location, workspace.subscription_id, sep = '\\n')\n",
        "\n",
        "dataset = Dataset.get_by_name(workspace, name='online-retail-frm')\n",
        "df_orig = dataset.to_pandas_dataframe()"
      ]
    },
    {
      "cell_type": "code",
      "execution_count": null,
      "metadata": {},
      "outputs": [],
      "source": [
        "df = df_orig.copy()\n",
        "df"
      ]
    },
    {
      "cell_type": "markdown",
      "metadata": {},
      "source": [
        "### Calculate Within Cluster Sum of Squared Errors (*WCSS*) aka Inertia\n",
        "- This metric is the same as `km.inertia_`\n",
        "- Inertia can be recognized as a measure of how internally coherent clusters are. \n",
        "- there are other metrics, e.g. `Silhouette Score` "
      ]
    },
    {
      "cell_type": "code",
      "execution_count": null,
      "metadata": {},
      "outputs": [],
      "source": [
        "def calculate_wcss(min_cluster, max_cluster, batch_size, data):\n",
        "    wcss=[]\n",
        "    for i in range(min_cluster, max_cluster):\n",
        "        km = MiniBatchKMeans(n_clusters=i,\n",
        "                             random_state=9,\n",
        "                             batch_size=batch_size,\n",
        "                             max_iter=100).fit(data)\n",
        "        km.fit(data)\n",
        "        wcss.append(km.inertia_)\n",
        "    return wcss"
      ]
    },
    {
      "cell_type": "code",
      "execution_count": null,
      "metadata": {},
      "outputs": [],
      "source": [
        "X = df.copy().to_numpy()\n",
        "\n",
        "min_cluster = 1\n",
        "max_cluster = 11\n",
        "batch_size = int(len(X)*0.1); batch_size\n",
        "\n",
        "wcss = calculate_wcss(min_cluster, max_cluster, batch_size, X)"
      ]
    },
    {
      "cell_type": "markdown",
      "metadata": {},
      "source": [
        "### Elbow-Curve\n",
        "- The most optimum value for *k* is where the 'elbow joint' is, in this case, it is 5, after which the value of *wcss* decrease less than before. "
      ]
    },
    {
      "cell_type": "code",
      "execution_count": null,
      "metadata": {},
      "outputs": [],
      "source": [
        "#The elbow curve\n",
        "_ = plt.figure(figsize=(12,6))\n",
        "_ = plt.plot(range(min_cluster, max_cluster), wcss)\n",
        "_ = plt.plot(range(min_cluster, max_cluster),wcss, linewidth=2, color=\"red\", marker =\"8\")\n",
        "_ = plt.xlabel(\"K Value\")\n",
        "_ = plt.xticks(np.arange(1,11,1))\n",
        "_ = plt.ylabel(\"WCSS\")\n",
        "_ = plt.grid(True)\n",
        "_ = plt.show()"
      ]
    },
    {
      "cell_type": "markdown",
      "metadata": {},
      "source": [
        "### Set *k* to 4"
      ]
    },
    {
      "cell_type": "code",
      "execution_count": null,
      "metadata": {},
      "outputs": [],
      "source": [
        "# Assuming 5 clusters\n",
        "n_clusters = 4\n",
        "km = MiniBatchKMeans(n_clusters=n_clusters,\n",
        "                     random_state=9,\n",
        "                     batch_size=batch_size,\n",
        "                     max_iter=100).fit(X)\n",
        "\n",
        "# Fitting the input data\n",
        "km.fit(X)\n",
        "\n",
        "# save the model\n",
        "# if False:\n",
        "if True:\n",
        "    import sklearn\n",
        "    model_filepath = f'../../.aml/models/mini-batch-k-means-customer-segmentation.pkl'\n",
        "    pickle.dump(km, open(model_filepath, \"wb\"))\n",
        "\n",
        "# Predicting the labels of the input data\n",
        "y = km.predict(X)\n",
        "\n",
        "# Add the labels to a column named label\n",
        "df_clusters = df.copy()\n",
        "df_clusters[\"label\"] = y\n",
        "\n",
        "df_clusters.head()"
      ]
    },
    {
      "cell_type": "markdown",
      "metadata": {},
      "source": [
        "### Register the Model"
      ]
    },
    {
      "cell_type": "code",
      "execution_count": null,
      "metadata": {},
      "outputs": [],
      "source": [
        "if True:\n",
        "# if False:\n",
        "    from azure.ai.ml import MLClient\n",
        "    from azure.ai.ml.entities import Model\n",
        "    #from azure.ai.ml._constants import ModelType\n",
        "    from azure.identity import DefaultAzureCredential\n",
        "\n",
        "    # get a handle to the workspace\n",
        "    ml_client = MLClient(credential=DefaultAzureCredential(), \n",
        "                        subscription_id=workspace.subscription_id, \n",
        "                        resource_group_name=workspace.resource_group, \n",
        "                        workspace_name=workspace.name)\n",
        "    ml_client\n",
        "\n",
        "    model_filepath = f'../../.aml/models/mini-batch-k-means-customer-segmentation.pkl'\n",
        "\n",
        "    file_model = Model(\n",
        "        path = model_filepath,\n",
        "        #type=ModelType.CUSTOM,\n",
        "        name = \"mini-batch-k-means-customer-segmentation\",\n",
        "        description = 'mini-batch-k-means-customer-segmentation | scikit-learn==0.24.2',\n",
        "        auto_increment_version = True,)\n",
        "    \n",
        "    ml_client.models.create_or_update(file_model)"
      ]
    },
    {
      "cell_type": "markdown",
      "metadata": {},
      "source": [
        "### Inverse Power Transformed data for Intepretation Purpose [Optional]"
      ]
    },
    {
      "cell_type": "code",
      "execution_count": null,
      "metadata": {},
      "outputs": [],
      "source": [
        "import pickle\n",
        "\n",
        "ptransformer_filepath = f'../../.aml/models/powertransformer.pkl'\n",
        "ptransformer = pickle.load(open(ptransformer_filepath, \"rb\"))\n",
        "\n",
        "df_clusters_inversed = pd.DataFrame(ptransformer.inverse_transform(X),\n",
        "                          columns=['Recency(Days)',\t'Frequency', 'Monetary(£)'])\n",
        "\n",
        "df_clusters_inversed['label'] = df_clusters['label']\n",
        "df_clusters_inversed    "
      ]
    },
    {
      "cell_type": "markdown",
      "metadata": {},
      "source": [
        "### Visualise"
      ]
    },
    {
      "cell_type": "code",
      "execution_count": null,
      "metadata": {},
      "outputs": [],
      "source": [
        "df_clusters_tsne = X.copy()\n",
        "df_clusters_tsne\n",
        "df_clusters_tsne[:10] # get the head of the array. .head() didn't work here so using :10\n",
        "\n",
        "X_embedded = TSNE(n_components=2, \n",
        "                  init='random').fit_transform(df_clusters_tsne)\n",
        "\n",
        "# Plot t-SNE\n",
        "_ = plt.figure(figsize=(12,8))\n",
        "_ = plt.title('Flattened Graph of {} Clusters'.format(n_clusters))\n",
        "_ = sns.scatterplot(x=X_embedded[:,0], y=X_embedded[:,1], hue=df_clusters[\"label\"], palette=\"Set2\")"
      ]
    },
    {
      "cell_type": "code",
      "execution_count": null,
      "metadata": {},
      "outputs": [],
      "source": [
        "fig = px.scatter_3d(df_clusters, \n",
        "                    x='Monetary(£)', y='Frequency', z='Recency(Days)',  \t\t\n",
        "                    color='label',\n",
        "                    width=1200, height=800) # figure size\n",
        "fig.show()"
      ]
    },
    {
      "cell_type": "code",
      "execution_count": null,
      "metadata": {},
      "outputs": [],
      "source": [
        "_ = plt.figure(figsize=(15,9))  # figsize doesn't work here? why?\n",
        "_ = sns.pairplot(data=df_clusters, hue='label', palette='Set2', height=3, aspect=1.5)\n",
        "_ = plt.show()"
      ]
    },
    {
      "cell_type": "markdown",
      "metadata": {},
      "source": [
        "### Possible Interpretation\n",
        "Copy from [00-interprete.ipynb](../02-interpretation/00-interprete.ipynb)\n",
        "\n",
        "Cluster | Recency(Days)                 | Frequency (last 6 months) | Monetary(£) last 6 months | Recommended Action / Thoughts |\n",
        "---     | ---                           | ---                       | ---                       | --- |\n",
        "0       | Active since last 2 weeks     | 100 transactions          | 1500                      | Very frequent customers who rely on online shopping. |\n",
        "1       | Active since last 3 months    | 30 transactions           | 500                       | Inactive for a while, but has been typical in spending. |\n",
        "2       | Active since last 3 months    | 7 transactions            | 150                       | Inactive for a while, and probably not rugular customer. |\n",
        "3       | Active since last 2 weeks     | 20 transactions           | 350                       | Active and regular, typical spending. |\n"
      ]
    },
    {
      "cell_type": "markdown",
      "metadata": {},
      "source": []
    }
  ],
  "metadata": {
    "interpreter": {
      "hash": "445c00fd7a4b4f8166fc18a5891a54272a4de61d1da772487512a90ebc4e26fc"
    },
    "kernel_info": {
      "name": "python3"
    },
    "kernelspec": {
      "display_name": "Python 3.8.5 ('azureml_py38_dev')",
      "language": "python",
      "name": "python3"
    },
    "language_info": {
      "codemirror_mode": {
        "name": "ipython",
        "version": 3
      },
      "file_extension": ".py",
      "mimetype": "text/x-python",
      "name": "python",
      "nbconvert_exporter": "python",
      "pygments_lexer": "ipython3",
      "version": "3.8.5"
    },
    "nteract": {
      "version": "nteract-front-end@1.0.0"
    },
    "orig_nbformat": 4
  },
  "nbformat": 4,
  "nbformat_minor": 0
}
